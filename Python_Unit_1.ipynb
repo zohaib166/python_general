{
  "nbformat": 4,
  "nbformat_minor": 0,
  "metadata": {
    "colab": {
      "provenance": [],
      "authorship_tag": "ABX9TyOUFIwbpz5EWd4BNIa5Bar0",
      "include_colab_link": true
    },
    "kernelspec": {
      "name": "python3",
      "display_name": "Python 3"
    },
    "language_info": {
      "name": "python"
    }
  },
  "cells": [
    {
      "cell_type": "markdown",
      "metadata": {
        "id": "view-in-github",
        "colab_type": "text"
      },
      "source": [
        "<a href=\"https://colab.research.google.com/github/zohaib166/python_general/blob/main/Python_Unit_1.ipynb\" target=\"_parent\"><img src=\"https://colab.research.google.com/assets/colab-badge.svg\" alt=\"Open In Colab\"/></a>"
      ]
    },
    {
      "cell_type": "code",
      "execution_count": null,
      "metadata": {
        "colab": {
          "base_uri": "https://localhost:8080/"
        },
        "id": "pmt3LWnaK5qc",
        "outputId": "cee3011d-6d8f-422f-ada1-f07b39f00630"
      },
      "outputs": [
        {
          "output_type": "stream",
          "name": "stdout",
          "text": [
            "Python 3.10.12\n"
          ]
        }
      ],
      "source": [
        "!python --version"
      ]
    },
    {
      "cell_type": "markdown",
      "source": [
        "## **Tokens and Keywords**"
      ],
      "metadata": {
        "id": "zJvlbdOPGEuH"
      }
    },
    {
      "cell_type": "markdown",
      "source": [
        "![image.png](data:image/png;base64,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)"
      ],
      "metadata": {
        "id": "18gwXOm4YVO6"
      }
    },
    {
      "cell_type": "markdown",
      "source": [
        "## **Python as Calculator**\n",
        "**Objectives:**\n",
        "\n",
        "*Arithmetic Operators*: ***, +,-,*,/,//,%\n",
        "\n",
        "*Assignment Operators*: =, +=, -=, *=, /=, //=, %=, **=\n",
        "\n",
        "*Relational Operators*: ==, !=, >, <, >=, <=\n",
        "\n",
        "*Boolean Operator*: and, or, not\n",
        "\n",
        "*Identity operator*: is\n",
        "\n",
        "*Membership Operators*: in\n",
        "\n",
        "*Deletion operator*: del\n",
        "\n",
        "*Bitwise Operator*: &, |, ^, ~, <<, >>\n"
      ],
      "metadata": {
        "id": "e_idBNQ1ZFTS"
      }
    },
    {
      "cell_type": "code",
      "source": [
        "print(3+2)"
      ],
      "metadata": {
        "colab": {
          "base_uri": "https://localhost:8080/"
        },
        "id": "2uqk-mme61P8",
        "outputId": "0e0ae4de-a681-4e9f-ef00-1044db1b2339"
      },
      "execution_count": null,
      "outputs": [
        {
          "output_type": "stream",
          "name": "stdout",
          "text": [
            "5\n"
          ]
        }
      ]
    },
    {
      "cell_type": "code",
      "source": [
        "4-2"
      ],
      "metadata": {
        "colab": {
          "base_uri": "https://localhost:8080/"
        },
        "id": "Ln9V0zT87Uj8",
        "outputId": "8e2e15ae-a67b-4c16-b375-a393925ecf83"
      },
      "execution_count": null,
      "outputs": [
        {
          "output_type": "execute_result",
          "data": {
            "text/plain": [
              "2"
            ]
          },
          "metadata": {},
          "execution_count": 5
        }
      ]
    },
    {
      "cell_type": "code",
      "source": [
        "7%2"
      ],
      "metadata": {
        "colab": {
          "base_uri": "https://localhost:8080/"
        },
        "id": "hw98agkv7rWz",
        "outputId": "a020d3cc-c579-4b40-bb53-808bb416c1ca"
      },
      "execution_count": null,
      "outputs": [
        {
          "output_type": "execute_result",
          "data": {
            "text/plain": [
              "1"
            ]
          },
          "metadata": {},
          "execution_count": 6
        }
      ]
    },
    {
      "cell_type": "code",
      "source": [
        "a = 20\n",
        "a //= 5\n",
        "print(a)"
      ],
      "metadata": {
        "colab": {
          "base_uri": "https://localhost:8080/"
        },
        "id": "YyyJMfIa79Et",
        "outputId": "db3b0e41-c129-4f44-99f4-4a59bdc89835"
      },
      "execution_count": null,
      "outputs": [
        {
          "output_type": "stream",
          "name": "stdout",
          "text": [
            "4\n"
          ]
        }
      ]
    },
    {
      "cell_type": "code",
      "source": [
        "5 != 5"
      ],
      "metadata": {
        "colab": {
          "base_uri": "https://localhost:8080/"
        },
        "id": "8HdAk08p8qTc",
        "outputId": "ba6e4107-a72e-4362-dddc-41e87bd330ee"
      },
      "execution_count": null,
      "outputs": [
        {
          "output_type": "execute_result",
          "data": {
            "text/plain": [
              "False"
            ]
          },
          "metadata": {},
          "execution_count": 8
        }
      ]
    },
    {
      "cell_type": "code",
      "source": [
        "5<8 and 7>10"
      ],
      "metadata": {
        "colab": {
          "base_uri": "https://localhost:8080/"
        },
        "id": "9XDiPgGg9E30",
        "outputId": "806c40d9-a832-4d01-c259-3b93ee48d705"
      },
      "execution_count": null,
      "outputs": [
        {
          "output_type": "execute_result",
          "data": {
            "text/plain": [
              "False"
            ]
          },
          "metadata": {},
          "execution_count": 9
        }
      ]
    },
    {
      "cell_type": "code",
      "source": [
        "5<8 or 7>10"
      ],
      "metadata": {
        "colab": {
          "base_uri": "https://localhost:8080/"
        },
        "id": "cZkgBKaJ9khl",
        "outputId": "285d8241-6c5e-4eff-ab54-85b7ee512063"
      },
      "execution_count": null,
      "outputs": [
        {
          "output_type": "execute_result",
          "data": {
            "text/plain": [
              "True"
            ]
          },
          "metadata": {},
          "execution_count": 10
        }
      ]
    },
    {
      "cell_type": "code",
      "source": [
        "age = int(input('Enter age '))\n",
        "gender = input('Enter gender ')\n",
        "can_vote = age >= 18\n",
        "can_marry = (gender == 'M' and age >= 25) or (gender == 'F' and age >= 22)\n",
        "if can_vote:\n",
        "  print('Can Vote')\n",
        "else:\n",
        "  print('Cannot Vote')\n",
        "if can_marry:\n",
        "  print('Can Marry')\n",
        "else:\n",
        "  print('Cannot Marry')"
      ],
      "metadata": {
        "colab": {
          "base_uri": "https://localhost:8080/",
          "height": 356
        },
        "id": "cTytHLqv-mb6",
        "outputId": "3ffcdd31-4ef0-48e6-e4e3-4af336747138"
      },
      "execution_count": null,
      "outputs": [
        {
          "output_type": "error",
          "ename": "KeyboardInterrupt",
          "evalue": "Interrupted by user",
          "traceback": [
            "\u001b[0;31m---------------------------------------------------------------------------\u001b[0m",
            "\u001b[0;31mKeyboardInterrupt\u001b[0m                         Traceback (most recent call last)",
            "\u001b[0;32m<ipython-input-11-bfe7853f8720>\u001b[0m in \u001b[0;36m<cell line: 1>\u001b[0;34m()\u001b[0m\n\u001b[0;32m----> 1\u001b[0;31m \u001b[0mage\u001b[0m \u001b[0;34m=\u001b[0m \u001b[0mint\u001b[0m\u001b[0;34m(\u001b[0m\u001b[0minput\u001b[0m\u001b[0;34m(\u001b[0m\u001b[0;34m'Enter age '\u001b[0m\u001b[0;34m)\u001b[0m\u001b[0;34m)\u001b[0m\u001b[0;34m\u001b[0m\u001b[0;34m\u001b[0m\u001b[0m\n\u001b[0m\u001b[1;32m      2\u001b[0m \u001b[0mgender\u001b[0m \u001b[0;34m=\u001b[0m \u001b[0minput\u001b[0m\u001b[0;34m(\u001b[0m\u001b[0;34m'Enter gender '\u001b[0m\u001b[0;34m)\u001b[0m\u001b[0;34m\u001b[0m\u001b[0;34m\u001b[0m\u001b[0m\n\u001b[1;32m      3\u001b[0m \u001b[0mcan_vote\u001b[0m \u001b[0;34m=\u001b[0m \u001b[0mage\u001b[0m \u001b[0;34m>=\u001b[0m \u001b[0;36m18\u001b[0m\u001b[0;34m\u001b[0m\u001b[0;34m\u001b[0m\u001b[0m\n\u001b[1;32m      4\u001b[0m \u001b[0mcan_marry\u001b[0m \u001b[0;34m=\u001b[0m \u001b[0;34m(\u001b[0m\u001b[0mgender\u001b[0m \u001b[0;34m==\u001b[0m \u001b[0;34m'M'\u001b[0m \u001b[0;32mand\u001b[0m \u001b[0mage\u001b[0m \u001b[0;34m>=\u001b[0m \u001b[0;36m25\u001b[0m\u001b[0;34m)\u001b[0m \u001b[0;32mor\u001b[0m \u001b[0;34m(\u001b[0m\u001b[0mgender\u001b[0m \u001b[0;34m==\u001b[0m \u001b[0;34m'F'\u001b[0m \u001b[0;32mand\u001b[0m \u001b[0mage\u001b[0m \u001b[0;34m>=\u001b[0m \u001b[0;36m22\u001b[0m\u001b[0;34m)\u001b[0m\u001b[0;34m\u001b[0m\u001b[0;34m\u001b[0m\u001b[0m\n\u001b[1;32m      5\u001b[0m \u001b[0;32mif\u001b[0m \u001b[0mcan_vote\u001b[0m\u001b[0;34m:\u001b[0m\u001b[0;34m\u001b[0m\u001b[0;34m\u001b[0m\u001b[0m\n",
            "\u001b[0;32m/usr/local/lib/python3.10/dist-packages/ipykernel/kernelbase.py\u001b[0m in \u001b[0;36mraw_input\u001b[0;34m(self, prompt)\u001b[0m\n\u001b[1;32m    849\u001b[0m                 \u001b[0;34m\"raw_input was called, but this frontend does not support input requests.\"\u001b[0m\u001b[0;34m\u001b[0m\u001b[0;34m\u001b[0m\u001b[0m\n\u001b[1;32m    850\u001b[0m             )\n\u001b[0;32m--> 851\u001b[0;31m         return self._input_request(str(prompt),\n\u001b[0m\u001b[1;32m    852\u001b[0m             \u001b[0mself\u001b[0m\u001b[0;34m.\u001b[0m\u001b[0m_parent_ident\u001b[0m\u001b[0;34m,\u001b[0m\u001b[0;34m\u001b[0m\u001b[0;34m\u001b[0m\u001b[0m\n\u001b[1;32m    853\u001b[0m             \u001b[0mself\u001b[0m\u001b[0;34m.\u001b[0m\u001b[0m_parent_header\u001b[0m\u001b[0;34m,\u001b[0m\u001b[0;34m\u001b[0m\u001b[0;34m\u001b[0m\u001b[0m\n",
            "\u001b[0;32m/usr/local/lib/python3.10/dist-packages/ipykernel/kernelbase.py\u001b[0m in \u001b[0;36m_input_request\u001b[0;34m(self, prompt, ident, parent, password)\u001b[0m\n\u001b[1;32m    893\u001b[0m             \u001b[0;32mexcept\u001b[0m \u001b[0mKeyboardInterrupt\u001b[0m\u001b[0;34m:\u001b[0m\u001b[0;34m\u001b[0m\u001b[0;34m\u001b[0m\u001b[0m\n\u001b[1;32m    894\u001b[0m                 \u001b[0;31m# re-raise KeyboardInterrupt, to truncate traceback\u001b[0m\u001b[0;34m\u001b[0m\u001b[0;34m\u001b[0m\u001b[0m\n\u001b[0;32m--> 895\u001b[0;31m                 \u001b[0;32mraise\u001b[0m \u001b[0mKeyboardInterrupt\u001b[0m\u001b[0;34m(\u001b[0m\u001b[0;34m\"Interrupted by user\"\u001b[0m\u001b[0;34m)\u001b[0m \u001b[0;32mfrom\u001b[0m \u001b[0;32mNone\u001b[0m\u001b[0;34m\u001b[0m\u001b[0;34m\u001b[0m\u001b[0m\n\u001b[0m\u001b[1;32m    896\u001b[0m             \u001b[0;32mexcept\u001b[0m \u001b[0mException\u001b[0m \u001b[0;32mas\u001b[0m \u001b[0me\u001b[0m\u001b[0;34m:\u001b[0m\u001b[0;34m\u001b[0m\u001b[0;34m\u001b[0m\u001b[0m\n\u001b[1;32m    897\u001b[0m                 \u001b[0mself\u001b[0m\u001b[0;34m.\u001b[0m\u001b[0mlog\u001b[0m\u001b[0;34m.\u001b[0m\u001b[0mwarning\u001b[0m\u001b[0;34m(\u001b[0m\u001b[0;34m\"Invalid Message:\"\u001b[0m\u001b[0;34m,\u001b[0m \u001b[0mexc_info\u001b[0m\u001b[0;34m=\u001b[0m\u001b[0;32mTrue\u001b[0m\u001b[0;34m)\u001b[0m\u001b[0;34m\u001b[0m\u001b[0;34m\u001b[0m\u001b[0m\n",
            "\u001b[0;31mKeyboardInterrupt\u001b[0m: Interrupted by user"
          ]
        }
      ]
    },
    {
      "cell_type": "code",
      "source": [
        "a = 'Zohaib'\n",
        "b = 'zohaib'\n",
        "print(a is b)"
      ],
      "metadata": {
        "id": "wXxT7_HCCOKS"
      },
      "execution_count": null,
      "outputs": []
    },
    {
      "cell_type": "code",
      "source": [
        "a = 3<4\n",
        "b = 7>5\n",
        "print(a == b)"
      ],
      "metadata": {
        "id": "CKeFHXCIC-BB"
      },
      "execution_count": null,
      "outputs": []
    },
    {
      "cell_type": "markdown",
      "source": [
        " 5 & 10\n",
        "\n",
        " 00000101\n",
        " 00001010\n",
        " ---------\n",
        " 00000000\n",
        "\n",
        "  5 | 10\n",
        "\n",
        " 00000101\n",
        " 00001010\n",
        " ---------\n",
        " 00001111\n",
        "\n"
      ],
      "metadata": {
        "id": "yz4UGCPwEDOp"
      }
    },
    {
      "cell_type": "code",
      "source": [
        "print(5 & 10)\n",
        "print(5 | 10)\n",
        "print(5 ^ 10)\n",
        "print(~5)\n",
        "print(5<<5)\n",
        "print(10>>1)"
      ],
      "metadata": {
        "id": "Ocr4sVpTDwWb"
      },
      "execution_count": null,
      "outputs": []
    },
    {
      "cell_type": "markdown",
      "source": [
        "# Data Types\n",
        "* int\n",
        "* float\n",
        "* str\n",
        "* bool\n",
        "* NoneType\n",
        "* complex\n"
      ],
      "metadata": {
        "id": "sJzeZbC9Tkwm"
      }
    },
    {
      "cell_type": "code",
      "source": [
        "print(type(2))\n",
        "print(type(2.3))\n",
        "print(type(\"a\"))\n",
        "print(type('abc'))\n",
        "print(type(True))\n",
        "print(type(None))\n",
        "print(type(3+4j))"
      ],
      "metadata": {
        "id": "G1H6TrBKDviS"
      },
      "execution_count": null,
      "outputs": []
    },
    {
      "cell_type": "markdown",
      "source": [
        "# Flow control\n",
        "* if else\n",
        "* if elif\n",
        "* pass\n",
        "* \\<expr1\\> if \\<conditional_expr\\> else \\<expr2\\>\n",
        "* for\n",
        "* while\n",
        "\n"
      ],
      "metadata": {
        "id": "FPUniJCuUQCL"
      }
    },
    {
      "cell_type": "code",
      "source": [
        "for i in range(2,11):\n",
        "  print(i)"
      ],
      "metadata": {
        "id": "yxKDNGzzKxX5"
      },
      "execution_count": null,
      "outputs": []
    },
    {
      "cell_type": "code",
      "source": [
        "a = 345; sum = 0\n",
        "while(a>0):\n",
        "  sum = sum + a % 10\n",
        "  a = a // 10\n",
        "\n",
        "print(sum)\n"
      ],
      "metadata": {
        "id": "8ny25ineLRGA"
      },
      "execution_count": null,
      "outputs": []
    },
    {
      "cell_type": "code",
      "source": [
        "a = 23\n",
        "if a!=23:\n",
        "  pass\n",
        "else:\n",
        "  print('hi')\n"
      ],
      "metadata": {
        "id": "n-XJTW1qIy3p"
      },
      "execution_count": null,
      "outputs": []
    },
    {
      "cell_type": "markdown",
      "source": [
        "### **Question 1:**\n",
        "\n",
        "Accept two positive integers M and N as input. There are two cases to consider:\n",
        "\n",
        "(1) If M < N, then print M as output.\n",
        "\n",
        "(2) If M >= N, subtract N from M. Call the difference M1. If M1 >= N, then subtract N from M1 and call the difference M2. Keep doing this operation until you reach a value k, such that, Mk < N. You have to print the value of Mk as output.\n",
        "\n"
      ],
      "metadata": {
        "id": "wIMG4TQjIwRY"
      }
    },
    {
      "cell_type": "code",
      "source": [
        "# Question 1 (Bad Method)\n",
        "M = int(input(\"enter M \"))\n",
        "N = int(input(\"enter N \"))\n",
        "if M < N:\n",
        "  print(M)\n",
        "else:\n",
        "  while(M>=N):\n",
        "    M = M-N\n",
        "  print(M)"
      ],
      "metadata": {
        "id": "uMoqJAG2KmTJ"
      },
      "execution_count": null,
      "outputs": []
    },
    {
      "cell_type": "code",
      "source": [
        "# Question 1 (Actual Method)\n",
        "M = int(input(\"enter M \"))\n",
        "N = int(input(\"enter N \"))\n",
        "print(M%N)"
      ],
      "metadata": {
        "id": "rVa474O9PBfw"
      },
      "execution_count": null,
      "outputs": []
    },
    {
      "cell_type": "code",
      "source": [
        "a = 3\n",
        "b = 4\n",
        "print(\"My age is {} and my dog's age is {}\".format(a,b))"
      ],
      "metadata": {
        "id": "WD9YSjERSFGX"
      },
      "execution_count": null,
      "outputs": []
    },
    {
      "cell_type": "markdown",
      "source": [
        "## List"
      ],
      "metadata": {
        "id": "tCDsg5WI3mrQ"
      }
    },
    {
      "cell_type": "markdown",
      "source": [
        "#### Declaration and Initialization"
      ],
      "metadata": {
        "id": "WhwWeRDfVeGW"
      }
    },
    {
      "cell_type": "code",
      "source": [
        "mylist = []\n",
        "yourlist = [1,2,3,4,5]\n",
        "hislist = [2.5,6.8,8.9]\n",
        "theirlist = ['a','b','hello','hi']\n",
        "oddlist = ['a',1, 4.5, 'Zohaib']\n",
        "nestedlist = [[1,2],[5,6,7],[8,9,10]]"
      ],
      "metadata": {
        "id": "IKKMUa5cUSIP"
      },
      "execution_count": null,
      "outputs": []
    },
    {
      "cell_type": "markdown",
      "source": [
        "#### Accessing List"
      ],
      "metadata": {
        "id": "gNIYxRmiVyBd"
      }
    },
    {
      "cell_type": "code",
      "source": [
        "#print(yourlist)\n",
        "#print(yourlist[3])\n",
        "\n",
        "# two types of for loop to access list\n",
        "for i in range(len(yourlist)):\n",
        "  print(yourlist[i], end=' ')\n",
        "print()\n",
        "\n",
        "for a in yourlist:\n",
        "  print(a, end=\" \")"
      ],
      "metadata": {
        "id": "12tsxDoUV1J-"
      },
      "execution_count": null,
      "outputs": []
    },
    {
      "cell_type": "markdown",
      "source": [
        "#### Slicing of list"
      ],
      "metadata": {
        "id": "VkGJtwKBY3Cg"
      }
    },
    {
      "cell_type": "code",
      "source": [
        "yourlist = [1,2,3,4,5]\n",
        "#print(yourlist[:]) #print all\n",
        "#print(yourlist[1:3]) #print index 1,2\n",
        "#print(yourlist[0:5:2]) #print with steps\n",
        "\n",
        "#cutlist = yourlist[1:4]\n",
        "#print(cutlist)\n",
        "\n",
        "#list is mutable\n",
        "yourlist[3] = 10\n",
        "print(yourlist)"
      ],
      "metadata": {
        "id": "ZZjIbhptY5lX"
      },
      "execution_count": null,
      "outputs": []
    },
    {
      "cell_type": "code",
      "source": [
        "#adding one element at a time\n",
        "fruits = ['apple', 'orange', 'grapes', 'banana']\n",
        "#print(\"Original list:\", fruits)\n",
        "fruits.append('papaya')\n",
        "#print(\"Modified list:\", fruits)\n",
        "\n",
        "exotic_fruits = ['kiwi', 'dragonfruit', 'avocado']\n",
        "fruits.extend(exotic_fruits)\n",
        "#print(\"More Fruits \", fruits)\n",
        "\n",
        "fruits.insert(3,'watermelon')\n",
        "#print(fruits)\n",
        "\n",
        "fruits.remove('orange')\n",
        "#print(fruits)\n",
        "\n",
        "#print(fruits.index('watermelon'))\n",
        "#fruits.append('avocado')\n",
        "#print(fruits)\n",
        "#print(fruits.count('avocado'))\n",
        "\n",
        "copy_fruits = []\n",
        "copy_fruits = fruits.copy()\n",
        "\n",
        "#print(copy_fruits)\n",
        "copy_fruits[3] = 'tomato'\n",
        "#print(\"Original: \", fruits)\n",
        "#print(\"Copied: \", copy_fruits)\n",
        "\n",
        "print(\"Deleted:\", fruits.pop(4))\n",
        "print(fruits)"
      ],
      "metadata": {
        "id": "ajrFO10MaYrO"
      },
      "execution_count": null,
      "outputs": []
    },
    {
      "cell_type": "code",
      "source": [
        "#sorting a list\n",
        "num = [5,2,8,6,1,9,4]\n",
        "print(\"original: \", num)\n",
        "num.sort(reverse=True)\n",
        "print(\"sorted: \", num)"
      ],
      "metadata": {
        "id": "Nu3gUgvMgQH5"
      },
      "execution_count": null,
      "outputs": []
    },
    {
      "cell_type": "code",
      "source": [
        "num = [5,2,8,6,1,9,4]\n",
        "print(sorted(num))\n",
        "print(num) #num is not sorted\n"
      ],
      "metadata": {
        "id": "IRkawXTuhdgC"
      },
      "execution_count": null,
      "outputs": []
    },
    {
      "cell_type": "code",
      "source": [
        "# Write a python code to check whether two string are anagram\n",
        "str1 = input(\"Enter first word: \")\n",
        "str2 = input(\"Enter second word: \")\n",
        "if(sorted(str1) == sorted(str2)):\n",
        "  print(\"They are anagrams\")\n",
        "else:\n",
        "  print(\"They are not anagrams\")"
      ],
      "metadata": {
        "id": "pv9xqs_XjD0y"
      },
      "execution_count": null,
      "outputs": []
    },
    {
      "cell_type": "code",
      "source": [
        "# Two dimensional list (nested list)\n",
        "#mat = [[2,3],[7,8],[9,3]]\n",
        "#print(mat[1][1])\n",
        "#user defined 2D list\n",
        "rows = int(input('Enter no of rows: '))\n",
        "cols = int(input('Enter no of cols: '))\n",
        "#to fill zeros in a nested list having given rows and cols\n",
        "# Method 1 (for loop)\n",
        "mat = []\n",
        "for j in range(rows):\n",
        "  temp = []\n",
        "  for i in range(cols):\n",
        "    temp.append(0)\n",
        "  mat.append(temp)\n",
        "\n",
        "print(mat)\n"
      ],
      "metadata": {
        "id": "gUn19EOyaYqQ"
      },
      "execution_count": null,
      "outputs": []
    },
    {
      "cell_type": "code",
      "source": [
        "mat = [[0]*cols]*rows\n",
        "print(mat)"
      ],
      "metadata": {
        "id": "Tye_zxCiB3to"
      },
      "execution_count": null,
      "outputs": []
    },
    {
      "cell_type": "code",
      "source": [
        "lst = ['CE', 'CS', 'DS']\n",
        "print(lst * 3)"
      ],
      "metadata": {
        "id": "VpwTClAgIwGf"
      },
      "execution_count": null,
      "outputs": []
    },
    {
      "cell_type": "markdown",
      "source": [
        "### List Comprehension"
      ],
      "metadata": {
        "id": "CPY2fA9-JZ5y"
      }
    },
    {
      "cell_type": "code",
      "source": [
        "num = []\n",
        "for i in range(1,101):\n",
        "  num.append(i)\n",
        "print(num)"
      ],
      "metadata": {
        "id": "8WhwJcHMJeAK"
      },
      "execution_count": null,
      "outputs": []
    },
    {
      "cell_type": "code",
      "source": [
        "num = [i for i in range(1,101)]\n",
        "print(num)"
      ],
      "metadata": {
        "id": "rkhqzCidM2xC"
      },
      "execution_count": null,
      "outputs": []
    },
    {
      "cell_type": "code",
      "source": [
        "num = [i*2 for i in range(1,101)]\n",
        "print(num)"
      ],
      "metadata": {
        "id": "NN9PpPf9M2Ed"
      },
      "execution_count": null,
      "outputs": []
    },
    {
      "cell_type": "code",
      "source": [
        "num = [i**2 for i in range(1,101)]\n",
        "print(num)"
      ],
      "metadata": {
        "id": "OuTN2_u2NTO_"
      },
      "execution_count": null,
      "outputs": []
    },
    {
      "cell_type": "code",
      "source": [
        "num = [i for i in range(1,101) if i%2==0]\n",
        "print(num)"
      ],
      "metadata": {
        "id": "2w29YWSPNS5n"
      },
      "execution_count": null,
      "outputs": []
    },
    {
      "cell_type": "code",
      "source": [
        "import random\n",
        "num = [random.randint(1,100) for i in range(100)]\n",
        "print(\"Original List: \",num)\n",
        "\n",
        "def check_prime(n):\n",
        "  if(n==2 or n==3): return True\n",
        "  i=2\n",
        "  flag = True\n",
        "  while(i*i <= n):\n",
        "    if(n%i==0):\n",
        "      flag = False\n",
        "      break\n",
        "    i+=1\n",
        "\n",
        "  return flag\n",
        "\n",
        "\n",
        "\n",
        "new_num = [i for i in num if check_prime(i)==True ]\n",
        "print(new_num)\n"
      ],
      "metadata": {
        "id": "j0uvSVg3QRgx"
      },
      "execution_count": null,
      "outputs": []
    },
    {
      "cell_type": "markdown",
      "source": [
        "# Tuples\n",
        "1. Declaration\n",
        "2. Access\n",
        "3. Update\n"
      ],
      "metadata": {
        "id": "NoR0wBnsF7Gr"
      }
    },
    {
      "cell_type": "code",
      "source": [
        "mytup = (1,2,3,4)\n",
        "print(mytup[2])\n",
        "\n",
        "mytup = (1,2,10,4)\n",
        "\n",
        "mytup = mytup[2:4]\n",
        "print(type(mytup))"
      ],
      "metadata": {
        "id": "DC6G1Hy0csic"
      },
      "execution_count": null,
      "outputs": []
    },
    {
      "cell_type": "code",
      "source": [
        "new_tup = (2,)\n",
        "print(type(new_tup))"
      ],
      "metadata": {
        "id": "2q8Lx7dRepBT"
      },
      "execution_count": null,
      "outputs": []
    },
    {
      "cell_type": "code",
      "source": [
        "a,b,c = 2,3,4\n",
        "print(type(a))"
      ],
      "metadata": {
        "id": "cJnbB9kLfO9U"
      },
      "execution_count": null,
      "outputs": []
    },
    {
      "cell_type": "code",
      "source": [
        "a = (1,2,3,4)\n",
        "print(id(a))\n",
        "a = a + (5,6)\n",
        "print(id(a))\n",
        "print(a)"
      ],
      "metadata": {
        "id": "7ra5JXJrflii"
      },
      "execution_count": null,
      "outputs": []
    },
    {
      "cell_type": "code",
      "source": [
        "a = [1,2,3]\n",
        "b = a\n",
        "print(id(a), id(b))\n",
        "b[1] = 100\n",
        "print(a)"
      ],
      "metadata": {
        "id": "TujLh_lXgdy_"
      },
      "execution_count": null,
      "outputs": []
    },
    {
      "cell_type": "code",
      "source": [
        "a = ([1,2],[3,4],[6,7])\n",
        "a[1][1] = 10\n",
        "print(a)"
      ],
      "metadata": {
        "id": "wwzUFDRHh7cT"
      },
      "execution_count": null,
      "outputs": []
    },
    {
      "cell_type": "markdown",
      "source": [
        "# Dictionary\n",
        "\n",
        "1.   Declaration\n",
        "2.   Access\n",
        "3.   Update\n",
        "\n",
        "## Built in dictionary methods\n",
        "1.  d.clear()\n",
        "2.  d.get(\\<key\\>[, \\<default\\>])\n",
        "3.  d.items()\n",
        "4.  d.keys()\n",
        "5.  d.values()\n",
        "6.  d.pop(\\<key\\>[, \\<default\\>])\n",
        "7.  d.popitem()\n",
        "8.  d.update(\\<obj\\>)"
      ],
      "metadata": {
        "id": "9PrSo5UG5gXL"
      }
    },
    {
      "cell_type": "code",
      "source": [
        "mydictionary = {1:\"red\",2:\"black\",3:\"purple\"}\n",
        "print(mydictionary[1])\n",
        "\n",
        "mydictionary[4] = \"black\"\n",
        "print(mydictionary)\n",
        "\n",
        "mydictionary[2] = \"cyan\"\n",
        "print(mydictionary)\n",
        "\n",
        "mydictionary['hello'] = \"orange\"\n",
        "\n",
        "print(mydictionary)"
      ],
      "metadata": {
        "colab": {
          "base_uri": "https://localhost:8080/"
        },
        "id": "mXn_7JNbir49",
        "outputId": "ee858d8b-4fce-4cb7-9308-2c0de3b977a7"
      },
      "execution_count": null,
      "outputs": [
        {
          "output_type": "stream",
          "name": "stdout",
          "text": [
            "red\n",
            "{1: 'red', 2: 'black', 3: 'purple', 4: 'black'}\n",
            "{1: 'red', 2: 'cyan', 3: 'purple', 4: 'black'}\n",
            "{1: 'red', 2: 'cyan', 3: 'purple', 4: 'black', 'hello': 'orange'}\n"
          ]
        }
      ]
    },
    {
      "cell_type": "code",
      "source": [
        "stud_marks = {1:[20,30,40],2:[80,90,70],3:[65,78,34]}\n",
        "print(stud_marks[3][1])"
      ],
      "metadata": {
        "colab": {
          "base_uri": "https://localhost:8080/"
        },
        "id": "Db4oDXnzkOD8",
        "outputId": "b17d55ef-d294-4fd7-bb75-a0ddff200dab"
      },
      "execution_count": null,
      "outputs": [
        {
          "output_type": "stream",
          "name": "stdout",
          "text": [
            "78\n"
          ]
        }
      ]
    },
    {
      "cell_type": "code",
      "source": [
        "allkeys = mydictionary.keys()\n",
        "print(tuple(allkeys))\n",
        "allvalues = mydictionary.values()\n",
        "print(tuple(allvalues))"
      ],
      "metadata": {
        "colab": {
          "base_uri": "https://localhost:8080/"
        },
        "id": "5NwiVg2dlTx9",
        "outputId": "6d1430c0-97a2-41ff-866e-ef8a2c1b006e"
      },
      "execution_count": null,
      "outputs": [
        {
          "output_type": "stream",
          "name": "stdout",
          "text": [
            "(1, 2, 3, 4, 'hello')\n",
            "('red', 'cyan', 'purple', 'black', 'orange')\n"
          ]
        }
      ]
    },
    {
      "cell_type": "code",
      "source": [
        "for i in mydictionary.keys():\n",
        "  print(i, end=\" \")"
      ],
      "metadata": {
        "id": "Z2-ppg5ClTwy",
        "colab": {
          "base_uri": "https://localhost:8080/"
        },
        "outputId": "98cbf6f4-6891-49a1-ac5c-2701bbfe803a"
      },
      "execution_count": null,
      "outputs": [
        {
          "output_type": "stream",
          "name": "stdout",
          "text": [
            "1 2 3 4 hello "
          ]
        }
      ]
    },
    {
      "cell_type": "code",
      "source": [
        "for i in mydictionary.values():\n",
        "  print(i, end=\" \")"
      ],
      "metadata": {
        "colab": {
          "base_uri": "https://localhost:8080/"
        },
        "id": "cq8uYp5eZrSs",
        "outputId": "c981b9ed-363a-4aae-9bb1-c90b21f720af"
      },
      "execution_count": null,
      "outputs": [
        {
          "output_type": "stream",
          "name": "stdout",
          "text": [
            "red cyan purple black orange "
          ]
        }
      ]
    },
    {
      "cell_type": "code",
      "source": [
        "dict_items = mydictionary.items()\n",
        "print(dict_items)"
      ],
      "metadata": {
        "colab": {
          "base_uri": "https://localhost:8080/"
        },
        "id": "lrALREw_Zu4z",
        "outputId": "5cdf216a-861d-4dfe-842f-163208ec910c"
      },
      "execution_count": null,
      "outputs": [
        {
          "output_type": "stream",
          "name": "stdout",
          "text": [
            "dict_items([(1, 'red'), (2, 'cyan'), (3, 'purple'), (4, 'black'), ('hello', 'orange')])\n"
          ]
        }
      ]
    },
    {
      "cell_type": "code",
      "source": [
        "for i,j in mydictionary.items():\n",
        "  print(i,\":\",j)"
      ],
      "metadata": {
        "colab": {
          "base_uri": "https://localhost:8080/"
        },
        "id": "6cjYqqxoaMfY",
        "outputId": "1f16dcd1-c47b-4d12-f657-d676f5f74a2f"
      },
      "execution_count": null,
      "outputs": [
        {
          "output_type": "stream",
          "name": "stdout",
          "text": [
            "1 : red\n",
            "2 : cyan\n",
            "3 : purple\n",
            "4 : black\n",
            "hello : orange\n"
          ]
        }
      ]
    },
    {
      "cell_type": "code",
      "source": [
        "mydictionary.pop(2)\n",
        "print(mydictionary)"
      ],
      "metadata": {
        "colab": {
          "base_uri": "https://localhost:8080/"
        },
        "id": "-wGPOyDNct3t",
        "outputId": "09791ed3-8921-4347-f330-69a4ab2f4a16"
      },
      "execution_count": null,
      "outputs": [
        {
          "output_type": "stream",
          "name": "stdout",
          "text": [
            "{1: 'red', 3: 'purple'}\n"
          ]
        }
      ]
    },
    {
      "cell_type": "code",
      "source": [
        "mydictionary = {1:\"red\",2:\"black\",3:\"purple\"}\n",
        "new_dict = {2:'yellow',4:'cyan'}\n",
        "mydictionary.update(new_dict)\n",
        "print(mydictionary)"
      ],
      "metadata": {
        "colab": {
          "base_uri": "https://localhost:8080/"
        },
        "id": "vjH92Z97eVcZ",
        "outputId": "9324d791-59d3-458d-a08b-fca479374b3e"
      },
      "execution_count": null,
      "outputs": [
        {
          "output_type": "stream",
          "name": "stdout",
          "text": [
            "{1: 'red', 2: 'yellow', 3: 'purple', 4: 'cyan'}\n"
          ]
        }
      ]
    },
    {
      "cell_type": "code",
      "source": [
        "print(dict(sorted(mydictionary.items(), key = lambda x:x[1], reverse=True)))"
      ],
      "metadata": {
        "colab": {
          "base_uri": "https://localhost:8080/"
        },
        "id": "3S6OGo0yh68z",
        "outputId": "6e115cf6-b370-4583-f40d-d69789d4b547"
      },
      "execution_count": null,
      "outputs": [
        {
          "output_type": "stream",
          "name": "stdout",
          "text": [
            "{2: 'yellow', 1: 'red', 3: 'purple', 4: 'cyan'}\n"
          ]
        }
      ]
    },
    {
      "cell_type": "code",
      "source": [
        "stu_details = [(2,'ravi','sharma','13'),(1,'gauarv','verma','21'),(3,'ansh','mishra','13'),(4,'zohaib','hasan','25')]\n",
        "sorted(stu_details)"
      ],
      "metadata": {
        "colab": {
          "base_uri": "https://localhost:8080/"
        },
        "id": "dAwN6znonJ2M",
        "outputId": "6de07355-5476-4f00-e8e4-a726b645bcdb"
      },
      "execution_count": null,
      "outputs": [
        {
          "output_type": "execute_result",
          "data": {
            "text/plain": [
              "[(1, 'gauarv', 'verma', '21'),\n",
              " (2, 'ravi', 'sharma', '13'),\n",
              " (3, 'ansh', 'mishra', '13'),\n",
              " (4, 'zohaib', 'hasan', '25')]"
            ]
          },
          "metadata": {},
          "execution_count": 52
        }
      ]
    },
    {
      "cell_type": "markdown",
      "source": [
        "# Set\n",
        "1. Create a Set\n",
        "2. Convert list into a set\n",
        "3. add - new item to a set\n",
        "4. update - merge two sets\n",
        "5. remove/discard - remove element from a set\n",
        "6. union, intersection and difference of two sets"
      ],
      "metadata": {
        "id": "E8Mc5BCEi5Jd"
      }
    },
    {
      "cell_type": "code",
      "source": [
        "a = {10,5,2,2,4,4}\n",
        "print(a)\n",
        "\n",
        "b = [1,2,3,3,5,5,5]\n",
        "print(set(b))"
      ],
      "metadata": {
        "colab": {
          "base_uri": "https://localhost:8080/"
        },
        "id": "6wMmkjKkpdr4",
        "outputId": "d8fd27f3-0182-4c47-9851-376bb047cc61"
      },
      "execution_count": null,
      "outputs": [
        {
          "output_type": "stream",
          "name": "stdout",
          "text": [
            "{10, 2, 4, 5}\n",
            "{1, 2, 3, 5}\n"
          ]
        }
      ]
    },
    {
      "cell_type": "code",
      "source": [
        "#adding elements to a set\n",
        "a = set({})\n",
        "a.add(10)\n",
        "a.add(2)\n",
        "a.add(23)\n",
        "a.add(20)\n",
        "print(a)"
      ],
      "metadata": {
        "colab": {
          "base_uri": "https://localhost:8080/"
        },
        "id": "AuYT-c72fgm9",
        "outputId": "2f02c343-2901-4c9f-f498-5a106c528921"
      },
      "execution_count": null,
      "outputs": [
        {
          "output_type": "stream",
          "name": "stdout",
          "text": [
            "{10, 2, 20, 23}\n"
          ]
        }
      ]
    },
    {
      "cell_type": "code",
      "source": [
        "a = {1,2,3}\n",
        "b = {5,2,7}\n",
        "a.update(b)\n",
        "print(a)"
      ],
      "metadata": {
        "colab": {
          "base_uri": "https://localhost:8080/"
        },
        "id": "sqqRsiUoiJpD",
        "outputId": "24295379-6e2c-4da4-d1f1-82ce04d7df42"
      },
      "execution_count": null,
      "outputs": [
        {
          "output_type": "stream",
          "name": "stdout",
          "text": [
            "{1, 2, 3, 5, 7}\n"
          ]
        }
      ]
    },
    {
      "cell_type": "code",
      "source": [
        "a.discard(5)\n",
        "print(a)"
      ],
      "metadata": {
        "colab": {
          "base_uri": "https://localhost:8080/"
        },
        "id": "_JORE97qixt5",
        "outputId": "80dac469-d5a7-48b3-9ae4-0013ccc1cc2f"
      },
      "execution_count": null,
      "outputs": [
        {
          "output_type": "stream",
          "name": "stdout",
          "text": [
            "{1, 2, 3, 7}\n"
          ]
        }
      ]
    },
    {
      "cell_type": "code",
      "source": [
        "a.remove(1)\n",
        "print(a)"
      ],
      "metadata": {
        "colab": {
          "base_uri": "https://localhost:8080/"
        },
        "id": "cpxKyGUIjHsS",
        "outputId": "d404e62a-5443-426d-cfbe-a1bd6892d7be"
      },
      "execution_count": null,
      "outputs": [
        {
          "output_type": "stream",
          "name": "stdout",
          "text": [
            "{2, 3, 7}\n"
          ]
        }
      ]
    },
    {
      "cell_type": "code",
      "source": [
        "a = {'apple', 'orange','guava'}\n",
        "b = {'litchi', 'pineapple','orange'}\n",
        "c = a.union(b)\n",
        "print(c)\n",
        "d = a.intersection(b)\n",
        "print(d)\n",
        "e = a.difference(b)\n",
        "print(e)"
      ],
      "metadata": {
        "colab": {
          "base_uri": "https://localhost:8080/"
        },
        "id": "iG5rmP3Ijkbe",
        "outputId": "0422ce23-ef7a-41f2-8f0f-cc8702823b02"
      },
      "execution_count": null,
      "outputs": [
        {
          "output_type": "stream",
          "name": "stdout",
          "text": [
            "{'apple', 'litchi', 'orange', 'guava', 'pineapple'}\n",
            "{'orange'}\n",
            "{'apple', 'guava'}\n"
          ]
        }
      ]
    },
    {
      "cell_type": "markdown",
      "source": [
        "##Text\n",
        "\n",
        "*  Printing text\n",
        "*  Escaping special characters\n",
        "*  Single, double quotes\n",
        "*  Raw Print, multiline print\n",
        "*  text multiply by integer\n",
        "*  concat and auto concat\n",
        "*  indexing and slicing of string\n",
        "*  string immutability\n",
        "*  string formatted printing"
      ],
      "metadata": {
        "id": "okIjrQhjpz15"
      }
    },
    {
      "cell_type": "code",
      "source": [
        "print('Hello'\n",
        "'world')\n",
        "print(a)"
      ],
      "metadata": {
        "colab": {
          "base_uri": "https://localhost:8080/"
        },
        "id": "2On48OrvogYW",
        "outputId": "95757c44-e26d-4306-d876-afdcf737e622"
      },
      "execution_count": null,
      "outputs": [
        {
          "output_type": "stream",
          "name": "stdout",
          "text": [
            "Hello\n"
          ]
        }
      ]
    },
    {
      "cell_type": "code",
      "source": [
        "print(\"There's hope\")"
      ],
      "metadata": {
        "colab": {
          "base_uri": "https://localhost:8080/"
        },
        "id": "mv0epRK1pmxC",
        "outputId": "e84df097-cf8f-4246-a4a5-71337ffd6222"
      },
      "execution_count": null,
      "outputs": [
        {
          "output_type": "stream",
          "name": "stdout",
          "text": [
            "There's hope\n"
          ]
        }
      ]
    },
    {
      "cell_type": "code",
      "source": [
        "print('Hello!! \"John\"')"
      ],
      "metadata": {
        "colab": {
          "base_uri": "https://localhost:8080/"
        },
        "id": "7c0yb5Yjozqo",
        "outputId": "3a09095c-321b-4d1e-d397-bc7f1efe84f0"
      },
      "execution_count": null,
      "outputs": [
        {
          "output_type": "stream",
          "name": "stdout",
          "text": [
            "Hello!! \"John\"\n"
          ]
        }
      ]
    },
    {
      "cell_type": "code",
      "source": [
        "print(\"Hello \\\"John\\\". There's still hope\")"
      ],
      "metadata": {
        "colab": {
          "base_uri": "https://localhost:8080/"
        },
        "id": "RnhByewVp_MY",
        "outputId": "399e70e8-5196-46f8-fb9a-012c2bfadf5d"
      },
      "execution_count": null,
      "outputs": [
        {
          "output_type": "stream",
          "name": "stdout",
          "text": [
            "Hello \"John\". There's still hope\n"
          ]
        }
      ]
    },
    {
      "cell_type": "code",
      "source": [
        "print(r'Hello World')\n",
        "print('C:\\\\node\\\\text')"
      ],
      "metadata": {
        "colab": {
          "base_uri": "https://localhost:8080/"
        },
        "id": "E2JrKfJOqSK4",
        "outputId": "163afa76-730b-4859-af4f-258e610a5864"
      },
      "execution_count": null,
      "outputs": [
        {
          "output_type": "stream",
          "name": "stdout",
          "text": [
            "C:\\node\\\n",
            "    text\n",
            "C:\\node\\text\n"
          ]
        }
      ]
    },
    {
      "cell_type": "code",
      "source": [
        "print('''\n",
        "#include <stdio.h>\n",
        "int main() {\n",
        "  printf(\"Hello World!\");\n",
        "  return 0;\n",
        "}''')"
      ],
      "metadata": {
        "colab": {
          "base_uri": "https://localhost:8080/"
        },
        "id": "VSpkbfFIrX8D",
        "outputId": "b5d735a8-1d66-4b5d-b42c-6edfc826f34c"
      },
      "execution_count": null,
      "outputs": [
        {
          "output_type": "stream",
          "name": "stdout",
          "text": [
            "\n",
            "#include <stdio.h>\n",
            "int main() {\n",
            "  printf(\"Hello World!\");\n",
            "  return 0;\n",
            "}\n"
          ]
        }
      ]
    },
    {
      "cell_type": "code",
      "source": [
        "a = \"Mathematics\"*3\n",
        "print(a)"
      ],
      "metadata": {
        "colab": {
          "base_uri": "https://localhost:8080/"
        },
        "id": "Dal9oM2vsolK",
        "outputId": "359aea39-0b35-4116-caba-394c19cb1697"
      },
      "execution_count": null,
      "outputs": [
        {
          "output_type": "stream",
          "name": "stdout",
          "text": [
            "MathematicsMathematicsMathematics\n"
          ]
        }
      ]
    },
    {
      "cell_type": "code",
      "source": [
        "print(a[10])"
      ],
      "metadata": {
        "colab": {
          "base_uri": "https://localhost:8080/"
        },
        "id": "WzK6x9E2tM5t",
        "outputId": "0bf0a03d-dcdf-4758-d562-a4a05a726dc5"
      },
      "execution_count": null,
      "outputs": [
        {
          "output_type": "stream",
          "name": "stdout",
          "text": [
            "s\n"
          ]
        }
      ]
    },
    {
      "cell_type": "code",
      "source": [
        "print(a[-20])"
      ],
      "metadata": {
        "colab": {
          "base_uri": "https://localhost:8080/"
        },
        "id": "lC2vBkOwtd67",
        "outputId": "ccb2c1ab-82f0-4097-e57f-f3e46e921996"
      },
      "execution_count": null,
      "outputs": [
        {
          "output_type": "stream",
          "name": "stdout",
          "text": [
            "t\n"
          ]
        }
      ]
    },
    {
      "cell_type": "code",
      "source": [
        "print(a[22:])"
      ],
      "metadata": {
        "colab": {
          "base_uri": "https://localhost:8080/"
        },
        "id": "Po12WLw9tqOL",
        "outputId": "f32b6845-853d-44c2-8b94-e0929d1234fd"
      },
      "execution_count": null,
      "outputs": [
        {
          "output_type": "stream",
          "name": "stdout",
          "text": [
            "Mathematics\n"
          ]
        }
      ]
    },
    {
      "cell_type": "code",
      "source": [
        "a[0] = 'm'"
      ],
      "metadata": {
        "colab": {
          "base_uri": "https://localhost:8080/",
          "height": 141
        },
        "id": "GFWpDZLzt6HK",
        "outputId": "588336b7-66c3-4672-dd71-5e891a422f7c"
      },
      "execution_count": null,
      "outputs": [
        {
          "output_type": "error",
          "ename": "TypeError",
          "evalue": "'str' object does not support item assignment",
          "traceback": [
            "\u001b[0;31m---------------------------------------------------------------------------\u001b[0m",
            "\u001b[0;31mTypeError\u001b[0m                                 Traceback (most recent call last)",
            "\u001b[0;32m<ipython-input-36-05471a6a5056>\u001b[0m in \u001b[0;36m<cell line: 1>\u001b[0;34m()\u001b[0m\n\u001b[0;32m----> 1\u001b[0;31m \u001b[0ma\u001b[0m\u001b[0;34m[\u001b[0m\u001b[0;36m0\u001b[0m\u001b[0;34m]\u001b[0m \u001b[0;34m=\u001b[0m \u001b[0;34m'm'\u001b[0m\u001b[0;34m\u001b[0m\u001b[0;34m\u001b[0m\u001b[0m\n\u001b[0m",
            "\u001b[0;31mTypeError\u001b[0m: 'str' object does not support item assignment"
          ]
        }
      ]
    },
    {
      "cell_type": "code",
      "source": [
        "item = 'oranges'\n",
        "cost = 12.6\n",
        "quan = 3\n",
        "\n",
        "print('{} {} costs Rs.{}/-'.format(quan,item,cost*quan))\n",
        "\n",
        "print(f\"{quan} {item} costs Rs.{cost*quan}/-\")"
      ],
      "metadata": {
        "colab": {
          "base_uri": "https://localhost:8080/"
        },
        "id": "SV3C5pH7utfn",
        "outputId": "43689e3e-6798-417d-e27f-44648a7f243d"
      },
      "execution_count": null,
      "outputs": [
        {
          "output_type": "stream",
          "name": "stdout",
          "text": [
            "oranges 3 costs Rs.37.8/-\n",
            "3 oranges costs Rs.37.8/-\n"
          ]
        }
      ]
    },
    {
      "cell_type": "markdown",
      "source": [
        "#Functions in Python"
      ],
      "metadata": {
        "id": "b1-G4XMSzFTZ"
      }
    },
    {
      "cell_type": "code",
      "source": [
        "def fun():\n",
        "  print(\"Hello World\")\n",
        "\n",
        "fun()"
      ],
      "metadata": {
        "colab": {
          "base_uri": "https://localhost:8080/"
        },
        "id": "GT2kYwBjzKmY",
        "outputId": "d9574fd4-fa19-446b-f50c-479cd3ea5099"
      },
      "execution_count": null,
      "outputs": [
        {
          "output_type": "stream",
          "name": "stdout",
          "text": [
            "Hello World\n"
          ]
        }
      ]
    },
    {
      "cell_type": "code",
      "source": [
        "def fun2(n):\n",
        "  print(\"Hello\",n)\n",
        "  n = \"Nitin\"\n",
        "\n",
        "name = \"Zohaib\"\n",
        "fun2(name)\n",
        "print(name)"
      ],
      "metadata": {
        "colab": {
          "base_uri": "https://localhost:8080/"
        },
        "id": "-4V7FkmEzO84",
        "outputId": "73caa75e-ef11-43d2-f686-f4eb92836cfd"
      },
      "execution_count": null,
      "outputs": [
        {
          "output_type": "stream",
          "name": "stdout",
          "text": [
            "Hello Zohaib\n",
            "Zohaib\n"
          ]
        }
      ]
    },
    {
      "cell_type": "code",
      "source": [
        "def fun3(mylist):\n",
        "  mylist.append('$')\n",
        "  return mylist\n",
        "\n",
        "mylist = []\n",
        "print(fun3(mylist))\n",
        "print(fun3(mylist))"
      ],
      "metadata": {
        "colab": {
          "base_uri": "https://localhost:8080/"
        },
        "id": "eOtAKd9Z0fDz",
        "outputId": "4c166112-3c00-4f3b-ed78-b9795870e094"
      },
      "execution_count": null,
      "outputs": [
        {
          "output_type": "stream",
          "name": "stdout",
          "text": [
            "['$']\n",
            "['$', '$']\n"
          ]
        }
      ]
    },
    {
      "cell_type": "code",
      "source": [
        "def fun4(fx):\n",
        "  print(\"2:\",id(fx))\n",
        "  fx = 10\n",
        "  print(\"3:\",id(fx))\n",
        "x = 5\n",
        "print(\"1:\",id(x))\n",
        "fun4(x)"
      ],
      "metadata": {
        "colab": {
          "base_uri": "https://localhost:8080/"
        },
        "id": "-QfXkDFY2sPJ",
        "outputId": "915d07bb-f95e-4f83-cdf7-d18f70fe8169"
      },
      "execution_count": null,
      "outputs": [
        {
          "output_type": "stream",
          "name": "stdout",
          "text": [
            "1: 132043344691568\n",
            "2: 132043344691568\n",
            "3: 132043344691728\n"
          ]
        }
      ]
    },
    {
      "cell_type": "code",
      "source": [
        "#Write a function that takes two numbers\n",
        "#and returns their sum (positional arguments)\n",
        "def calc(a,b):\n",
        "  return a+b,a-b,a*b,a/b\n",
        "x,y,z,w = calc(4,3)\n",
        "print(x,y,z,w)"
      ],
      "metadata": {
        "id": "fDYD2dxi3SbJ",
        "colab": {
          "base_uri": "https://localhost:8080/"
        },
        "outputId": "11a8f2c2-4d83-4e7e-bf98-ac4c3ac4c016"
      },
      "execution_count": null,
      "outputs": [
        {
          "output_type": "stream",
          "name": "stdout",
          "text": [
            "7 1 12 1.3333333333333333\n"
          ]
        }
      ]
    },
    {
      "cell_type": "code",
      "source": [
        "#Write a code to find the average of 2 to 4 numbers\n",
        "def avg(a,b,c=0,d=0):\n",
        "  return (a+b+c+d)/4 #How do we know that 4 numbers were passed???\n",
        "\n",
        "print(avg(4,5))"
      ],
      "metadata": {
        "colab": {
          "base_uri": "https://localhost:8080/"
        },
        "id": "rMadbmrTEKNB",
        "outputId": "4afef1a1-e540-42b0-aadf-1eeb661f71fa"
      },
      "execution_count": null,
      "outputs": [
        {
          "output_type": "stream",
          "name": "stdout",
          "text": [
            "2.25\n"
          ]
        }
      ]
    },
    {
      "cell_type": "code",
      "source": [
        "#Keyword arguments\n",
        "def personInfo(name, bike, car):\n",
        "  print(f'{name} has {bike} bike and {car} car')\n",
        "\n",
        "personInfo(bike = 'h2r', car = 'lamborghini', name = 'john')"
      ],
      "metadata": {
        "colab": {
          "base_uri": "https://localhost:8080/"
        },
        "id": "e0LFhglSEYA4",
        "outputId": "b07fdb83-686d-4cae-a690-532cfacc99fa"
      },
      "execution_count": null,
      "outputs": [
        {
          "output_type": "stream",
          "name": "stdout",
          "text": [
            "john has h2r bike and lamborghini car\n"
          ]
        }
      ]
    },
    {
      "cell_type": "code",
      "source": [
        "# Combining positional and keyword arguments\n",
        "personInfo('navin',car='swift', bike='splendor')\n",
        "personInfo('navin','splendor', car='swift')"
      ],
      "metadata": {
        "colab": {
          "base_uri": "https://localhost:8080/"
        },
        "id": "EcoDft6ZGzPw",
        "outputId": "df86a295-4a2a-4241-ca37-563d4b28b81d"
      },
      "execution_count": null,
      "outputs": [
        {
          "output_type": "stream",
          "name": "stdout",
          "text": [
            "navin has splendor bike and swift car\n",
            "navin has splendor bike and swift car\n"
          ]
        }
      ]
    },
    {
      "cell_type": "code",
      "source": [
        "#Write a code to find the average of 2 to any amount of numbers\n",
        "#Tuple packing\n",
        "def avg(*args):\n",
        "  return sum(args)/len(args)\n",
        "\n",
        "print(avg(4,5,6,7))"
      ],
      "metadata": {
        "colab": {
          "base_uri": "https://localhost:8080/"
        },
        "id": "sG_F2LWrI5ba",
        "outputId": "2c57b8f6-8d97-487a-ede3-3e296ee43988"
      },
      "execution_count": null,
      "outputs": [
        {
          "output_type": "stream",
          "name": "stdout",
          "text": [
            "5.5\n"
          ]
        }
      ]
    },
    {
      "cell_type": "code",
      "source": [
        "#Tuple unpacking\n",
        "def datePrint(dd,mm,yyyy):\n",
        "  print(f'{dd}/{mm}/{yyyy}')\n",
        "\n",
        "date = (12,12,2024)\n",
        "datePrint(*date)"
      ],
      "metadata": {
        "colab": {
          "base_uri": "https://localhost:8080/"
        },
        "id": "j_Y9_U8AKxhg",
        "outputId": "962c23c0-ffff-4b6b-f0f6-317bda1385ff"
      },
      "execution_count": null,
      "outputs": [
        {
          "output_type": "stream",
          "name": "stdout",
          "text": [
            "12/12/2024\n"
          ]
        }
      ]
    },
    {
      "cell_type": "markdown",
      "source": [
        "## Dictionary packing"
      ],
      "metadata": {
        "id": "5l08Vr0BNLOc"
      }
    },
    {
      "cell_type": "code",
      "source": [
        "def func(**args):\n",
        "  print('{', end=\" \")\n",
        "  for key, val in args.items():\n",
        "    print(key,\":\",val)\n",
        "  print('}')\n",
        "func(rollno=60, name='Zohaib', branch='EC')"
      ],
      "metadata": {
        "colab": {
          "base_uri": "https://localhost:8080/"
        },
        "id": "eEFLrdDFMCch",
        "outputId": "2ccafe8a-2fd8-4759-9c0a-ef680e5e2e81"
      },
      "execution_count": null,
      "outputs": [
        {
          "output_type": "stream",
          "name": "stdout",
          "text": [
            "{ rollno : 60\n",
            "name : Zohaib\n",
            "branch : EC\n",
            "}\n"
          ]
        }
      ]
    },
    {
      "cell_type": "markdown",
      "source": [
        "## Lambda Functions (Anonymous Functions)"
      ],
      "metadata": {
        "id": "80quSvLJCKGN"
      }
    },
    {
      "cell_type": "code",
      "source": [
        "def times2(num):\n",
        "  return 2*num\n",
        "\n",
        "print(times2(4))"
      ],
      "metadata": {
        "id": "6aOYhpQFO2yP",
        "colab": {
          "base_uri": "https://localhost:8080/"
        },
        "outputId": "55096392-1fd4-49e9-d557-8280923e206e"
      },
      "execution_count": null,
      "outputs": [
        {
          "output_type": "stream",
          "name": "stdout",
          "text": [
            "8\n"
          ]
        }
      ]
    },
    {
      "cell_type": "code",
      "source": [
        "times2 = lambda num:2*num\n",
        "print(times2(5))"
      ],
      "metadata": {
        "colab": {
          "base_uri": "https://localhost:8080/"
        },
        "id": "AS2HdgZlrtk2",
        "outputId": "2c78f772-2e24-4e1a-9531-7c94fd9ee5bf"
      },
      "execution_count": null,
      "outputs": [
        {
          "output_type": "stream",
          "name": "stdout",
          "text": [
            "10\n"
          ]
        }
      ]
    },
    {
      "cell_type": "markdown",
      "source": [
        "## Why do we need lambda function?"
      ],
      "metadata": {
        "id": "SMifQSOAtzHt"
      }
    },
    {
      "cell_type": "code",
      "source": [
        "def func(n):\n",
        "    return lambda a:a*n\n",
        "\n",
        "mydoubler = func(2)\n",
        "print(mydoubler(10))\n",
        "mytripler = func(3)\n",
        "print(mytripler(10))"
      ],
      "metadata": {
        "colab": {
          "base_uri": "https://localhost:8080/"
        },
        "id": "i-DfCx8Msupf",
        "outputId": "4b29548f-aebc-4caa-e536-794b99bbf186"
      },
      "execution_count": null,
      "outputs": [
        {
          "output_type": "stream",
          "name": "stdout",
          "text": [
            "20\n",
            "30\n"
          ]
        }
      ]
    },
    {
      "cell_type": "markdown",
      "source": [
        "## Map function"
      ],
      "metadata": {
        "id": "X1gQYkVPvkn2"
      }
    },
    {
      "cell_type": "code",
      "source": [
        "#doubling each element of a list without using map function\n",
        "mylist = [2,3,4,5,6]\n",
        "doublelist = []\n",
        "\n",
        "def func(n):\n",
        "    return lambda a:a*n\n",
        "\n",
        "#print(doublelist)"
      ],
      "metadata": {
        "colab": {
          "base_uri": "https://localhost:8080/"
        },
        "id": "tQG7CIeHuhY5",
        "outputId": "063418c3-47aa-47d6-815b-304c47f70e8e"
      },
      "execution_count": null,
      "outputs": [
        {
          "output_type": "stream",
          "name": "stdout",
          "text": [
            "[4, 6, 8]\n"
          ]
        }
      ]
    },
    {
      "cell_type": "code",
      "source": [
        "doublelist = list(map(func(2), mylist))\n",
        "print(doublelist)"
      ],
      "metadata": {
        "colab": {
          "base_uri": "https://localhost:8080/"
        },
        "id": "BQ0c9J1GzHMz",
        "outputId": "9882e5dd-a339-44e0-de11-2aa560a65d57"
      },
      "execution_count": null,
      "outputs": [
        {
          "output_type": "stream",
          "name": "stdout",
          "text": [
            "[4, 6, 8]\n"
          ]
        }
      ]
    },
    {
      "cell_type": "code",
      "source": [
        "doublelist = list(map(lambda x:x*2, mylist))\n",
        "print(doublelist)"
      ],
      "metadata": {
        "colab": {
          "base_uri": "https://localhost:8080/"
        },
        "id": "TEtdKyYrxGGu",
        "outputId": "7279b4d0-58e3-45d0-dc9d-19065a5e117a"
      },
      "execution_count": null,
      "outputs": [
        {
          "output_type": "stream",
          "name": "stdout",
          "text": [
            "[4, 6, 8]\n"
          ]
        }
      ]
    },
    {
      "cell_type": "markdown",
      "source": [
        "## Filter function"
      ],
      "metadata": {
        "id": "T5A_iSzB1gVE"
      }
    },
    {
      "cell_type": "code",
      "source": [
        "import random\n",
        "myrandom = []\n",
        "for i in range(1,11):\n",
        "    myrandom.append(random.randint(1,50))\n",
        "print(myrandom)"
      ],
      "metadata": {
        "colab": {
          "base_uri": "https://localhost:8080/"
        },
        "id": "lDg5HOacx_GU",
        "outputId": "191c556b-8327-48c5-8d6c-4c7e6fad87f3"
      },
      "execution_count": null,
      "outputs": [
        {
          "output_type": "stream",
          "name": "stdout",
          "text": [
            "[1, 34, 26, 24, 19, 15, 33, 26, 32, 39]\n"
          ]
        }
      ]
    },
    {
      "cell_type": "code",
      "source": [
        "oddnumber = list(filter(lambda x: x%2==0, myrandom))\n",
        "print(oddnumber)"
      ],
      "metadata": {
        "colab": {
          "base_uri": "https://localhost:8080/"
        },
        "id": "eMzMCIml2srb",
        "outputId": "044708b3-d890-46da-9fa2-30c9e919e521"
      },
      "execution_count": null,
      "outputs": [
        {
          "output_type": "stream",
          "name": "stdout",
          "text": [
            "[34, 26, 24, 26, 32]\n"
          ]
        }
      ]
    },
    {
      "cell_type": "markdown",
      "source": [
        "# Object Oriented Programming\n",
        "\n",
        "## Class and Object"
      ],
      "metadata": {
        "id": "o0zKBsgT4wXq"
      }
    },
    {
      "cell_type": "code",
      "source": [
        "class Student:\n",
        "    pass\n",
        "\n",
        "s1 = Student()\n",
        "print(type(s1))\n",
        "s2 = Student()\n",
        "print(s1==s2)"
      ],
      "metadata": {
        "colab": {
          "base_uri": "https://localhost:8080/"
        },
        "id": "Hd0eEWX63-V7",
        "outputId": "3fc15939-e71c-486f-e4f0-5a69900fe4e2"
      },
      "execution_count": null,
      "outputs": [
        {
          "output_type": "stream",
          "name": "stdout",
          "text": [
            "<class '__main__.Student'>\n",
            "False\n"
          ]
        }
      ]
    },
    {
      "cell_type": "markdown",
      "source": [
        "## init method, self and instance variables"
      ],
      "metadata": {
        "id": "M_HS9YEZ6a9r"
      }
    },
    {
      "cell_type": "code",
      "source": [
        "class Student:\n",
        "    def __init__(self):\n",
        "        self.name = \"Tarun\"\n",
        "        self.age = 21\n",
        "\n",
        "s1 = Student()\n",
        "s1.name = \"Naveen\"\n",
        "s1.age = 45\n",
        "print(s1.name, s1.age)"
      ],
      "metadata": {
        "colab": {
          "base_uri": "https://localhost:8080/"
        },
        "id": "HAtVhut357Wr",
        "outputId": "63fb0430-40dd-4378-8d78-21ec082b9016"
      },
      "execution_count": null,
      "outputs": [
        {
          "output_type": "stream",
          "name": "stdout",
          "text": [
            "Naveen 45\n"
          ]
        }
      ]
    },
    {
      "cell_type": "markdown",
      "source": [
        "## type of variables\n",
        "* instance variables\n",
        "* class variables"
      ],
      "metadata": {
        "id": "OuQwZw-l8oai"
      }
    },
    {
      "cell_type": "code",
      "source": [
        "class Student:\n",
        "    collegename = \"BGIEM\" #class variable\n",
        "    def __init__(self):\n",
        "        self.name = \"Tarun\"\n",
        "        self.age = 21\n",
        "s1=Student()\n",
        "s1.name=\"John\"\n",
        "s1.age= 17\n",
        "\n",
        "s2=Student()\n",
        "s2.name=\"Paras\"\n",
        "s2.age = 18\n",
        "\n",
        "Student.collegename = \"LNCT\"\n",
        "\n",
        "print(s1.name, s1.age, s1.collegename)\n",
        "print(s2.name, s2.age, s2.collegename)\n",
        "\n",
        "print(id(s1.collegename),id(s2.collegename))"
      ],
      "metadata": {
        "colab": {
          "base_uri": "https://localhost:8080/"
        },
        "id": "lD2Eev8i8IGC",
        "outputId": "ad02ee6f-e0c6-4e49-ca46-b3dfb7201e4e"
      },
      "execution_count": null,
      "outputs": [
        {
          "output_type": "stream",
          "name": "stdout",
          "text": [
            "John 17 LNCT\n",
            "Paras 18 LNCT\n",
            "133754546540080 133754546540080\n"
          ]
        }
      ]
    },
    {
      "cell_type": "code",
      "source": [
        "class Car:\n",
        "    noOfWheels = 4\n",
        "    def __init__(self,brand,model,fuel='Petrol'):\n",
        "        self.brand = brand\n",
        "        self.model = model\n",
        "        self.fuel = fuel\n",
        "\n",
        "    def __str__(self):\n",
        "        return f'{self.brand} | {self.model} | {self.fuel}'\n",
        "\n",
        "c1 = Car('KIA','Seltos','CNG')\n",
        "c2 = Car('Suzuki','Baleno','Electric')\n",
        "print(c1)\n",
        "print(c2)\n",
        "Car.noOfWheels = int(input(\"Enter the no of wheels: \"))\n",
        "print(c1.noOfWheels)"
      ],
      "metadata": {
        "id": "rpLpB7bb9xKZ",
        "colab": {
          "base_uri": "https://localhost:8080/"
        },
        "outputId": "3d049984-222a-47b5-b34d-cb11e3f73d2f"
      },
      "execution_count": 11,
      "outputs": [
        {
          "output_type": "stream",
          "name": "stdout",
          "text": [
            "KIA | Seltos | CNG\n",
            "Suzuki | Baleno | Electric\n",
            "Enter the no of wheels: 6\n",
            "6\n"
          ]
        }
      ]
    },
    {
      "cell_type": "code",
      "source": [
        "import random\n",
        "class Car:\n",
        "    noOfWheels = 4 #class variable\n",
        "    def __init__(self,brand,model,fuel='Petrol'):\n",
        "        self.brand = brand #instance variables\n",
        "        self.model = model #instance variables\n",
        "        self.fuel = fuel #instance variables\n",
        "\n",
        "    #instance method\n",
        "    def show(self):\n",
        "        print(self.brand , self.model , self.fuel, sep = \" | \")\n",
        "\n",
        "    @classmethod\n",
        "    def changeWheels(cls, wheels):\n",
        "        cls.noOfWheels = wheels\n",
        "    @staticmethod\n",
        "    def generateCarColor():\n",
        "        colors = ['red', 'white','black']\n",
        "        print(\"Car color:\",random.choice(colors))\n",
        "\n",
        "c1 = Car('Suzuki','Baleno','Electric')\n",
        "c1.show()\n",
        "Car.changeWheels(6)\n",
        "print(\"No of Wheels:\" ,c1.noOfWheels)\n",
        "c1.generateCarColor()"
      ],
      "metadata": {
        "colab": {
          "base_uri": "https://localhost:8080/"
        },
        "id": "C4S7RAhWeWTs",
        "outputId": "af17473a-265b-4908-e8d5-419d4d123b4d"
      },
      "execution_count": 22,
      "outputs": [
        {
          "output_type": "stream",
          "name": "stdout",
          "text": [
            "Suzuki | Baleno | Electric\n",
            "No of Wheels: 6\n",
            "Car color: black\n"
          ]
        }
      ]
    },
    {
      "cell_type": "markdown",
      "source": [
        "#Inheritance"
      ],
      "metadata": {
        "id": "glhbqf-cpNhr"
      }
    },
    {
      "cell_type": "code",
      "source": [
        "class Parent:\n",
        "    def fun(self):\n",
        "        print(\"Hello\")\n",
        "\n",
        "class Child(Parent):\n",
        "    pass\n",
        "\n",
        "obj = Child()\n",
        "obj.fun()"
      ],
      "metadata": {
        "colab": {
          "base_uri": "https://localhost:8080/"
        },
        "id": "mUaNfxz1l1vj",
        "outputId": "f6998352-38f5-4f74-c740-3896e2f8a6e4"
      },
      "execution_count": 23,
      "outputs": [
        {
          "output_type": "stream",
          "name": "stdout",
          "text": [
            "Hello\n"
          ]
        }
      ]
    },
    {
      "cell_type": "markdown",
      "source": [
        "## Single Inheritance"
      ],
      "metadata": {
        "id": "e5kDSpB6qHWj"
      }
    },
    {
      "cell_type": "code",
      "source": [
        "class A:\n",
        "    def feature1(self):\n",
        "        print(\"Parent's Feature 1 working\")\n",
        "    def feature2(self):\n",
        "        print(\"Feature 2 working\")\n",
        "class B(A):\n",
        "    def feature1(self):\n",
        "        print(\"Child's Feature 1 working\")\n",
        "\n",
        "obj = B()\n",
        "obj.feature1()"
      ],
      "metadata": {
        "colab": {
          "base_uri": "https://localhost:8080/"
        },
        "id": "RVpO-_Rvpp67",
        "outputId": "387c311f-6287-4951-a440-fbdede673c0d"
      },
      "execution_count": 35,
      "outputs": [
        {
          "output_type": "stream",
          "name": "stdout",
          "text": [
            "Child's Feature 1 working\n"
          ]
        }
      ]
    },
    {
      "cell_type": "markdown",
      "source": [
        "## Multilevel Inheritance"
      ],
      "metadata": {
        "id": "xw8ekhh2qYci"
      }
    },
    {
      "cell_type": "code",
      "source": [
        "class A:\n",
        "    def feature1(self):\n",
        "        print(\"Feature 1 working\")\n",
        "    def feature2(self):\n",
        "        print(\"Feature 2 working\")\n",
        "class B(A):\n",
        "    def feature3(self):\n",
        "        print(\"Feature 3 working\")\n",
        "class C(B):\n",
        "    def feature4(self):\n",
        "        print(\"Feature 4 working\")\n",
        "\n",
        "obj = C()\n",
        "obj.feature3()"
      ],
      "metadata": {
        "colab": {
          "base_uri": "https://localhost:8080/"
        },
        "id": "MbOOxfGxtxCM",
        "outputId": "cab68e3b-842b-4b99-cf3c-4d5e452da151"
      },
      "execution_count": 38,
      "outputs": [
        {
          "output_type": "stream",
          "name": "stdout",
          "text": [
            "Feature 3 working\n"
          ]
        }
      ]
    },
    {
      "cell_type": "markdown",
      "source": [
        "## Hierarchical Inheritance"
      ],
      "metadata": {
        "id": "F636oYcWumsU"
      }
    },
    {
      "cell_type": "code",
      "source": [
        "class A:\n",
        "    def feature1(self):\n",
        "        print(\"Feature 1 working\")\n",
        "    def feature2(self):\n",
        "        print(\"Feature 2 working\")\n",
        "class B(A):\n",
        "    def feature3(self):\n",
        "        print(\"Feature 3 working\")\n",
        "class C(A):\n",
        "    def feature4(self):\n",
        "        print(\"Feature 4 working\")\n",
        "\n",
        "objB = B()\n",
        "objB.feature3()\n",
        "objB.feature1()\n",
        "\n",
        "objC = C()\n",
        "objC.feature4()\n",
        "objC.feature2()\n"
      ],
      "metadata": {
        "colab": {
          "base_uri": "https://localhost:8080/"
        },
        "id": "xuQX9PJmuDPM",
        "outputId": "c9f8a0b2-0d16-4bd9-93ee-b8c93658bf43"
      },
      "execution_count": 41,
      "outputs": [
        {
          "output_type": "stream",
          "name": "stdout",
          "text": [
            "Feature 3 working\n",
            "Feature 1 working\n",
            "Feature 4 working\n",
            "Feature 2 working\n"
          ]
        }
      ]
    },
    {
      "cell_type": "markdown",
      "source": [
        "## Multiple Inheritance"
      ],
      "metadata": {
        "id": "Ts_r1NUUvj3k"
      }
    },
    {
      "cell_type": "code",
      "source": [
        "class A:\n",
        "    def feature1(self):\n",
        "        print(\"Feature 1 working\")\n",
        "\n",
        "class B:\n",
        "    def feature2(self):\n",
        "        print(\"Feature 2 working\")\n",
        "\n",
        "class C(A,B):\n",
        "    def feature3(self):\n",
        "        print(\"Feature 3 working\")\n",
        "\n",
        "obj= C()\n",
        "obj.feature1()\n",
        "obj.feature2()\n",
        "obj.feature3()"
      ],
      "metadata": {
        "colab": {
          "base_uri": "https://localhost:8080/"
        },
        "id": "DFLgP8zkvJ5U",
        "outputId": "83465a4a-c31b-405b-ca29-c624eca2461b"
      },
      "execution_count": 42,
      "outputs": [
        {
          "output_type": "stream",
          "name": "stdout",
          "text": [
            "Feature 1 working\n",
            "Feature 2 working\n",
            "Feature 3 working\n"
          ]
        }
      ]
    },
    {
      "cell_type": "markdown",
      "source": [
        "### Method Resolution Order (MRO)"
      ],
      "metadata": {
        "id": "x1yjRJx1wBqQ"
      }
    },
    {
      "cell_type": "code",
      "source": [
        "class A:\n",
        "    def feature1(self):\n",
        "        print(\"A: Feature 1 working\")\n",
        "\n",
        "class B:\n",
        "    def feature1(self):\n",
        "        print(\"B: Feature 1 working\")\n",
        "\n",
        "class C(B,A):\n",
        "    def feature3(self):\n",
        "        print(\"Feature 3 working\")\n",
        "\n",
        "obj= C()\n",
        "obj.feature1()"
      ],
      "metadata": {
        "colab": {
          "base_uri": "https://localhost:8080/"
        },
        "id": "MRs9zCLVv-zO",
        "outputId": "32834f65-a9f8-48da-ef77-147ff2ff70ba"
      },
      "execution_count": 44,
      "outputs": [
        {
          "output_type": "stream",
          "name": "stdout",
          "text": [
            "B: Feature 1 working\n"
          ]
        }
      ]
    },
    {
      "cell_type": "code",
      "source": [],
      "metadata": {
        "id": "DvDf4MYlwVUU"
      },
      "execution_count": null,
      "outputs": []
    }
  ]
}