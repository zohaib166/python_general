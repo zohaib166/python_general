{
  "nbformat": 4,
  "nbformat_minor": 0,
  "metadata": {
    "colab": {
      "provenance": [],
      "mount_file_id": "1JHvv1k5LvvRCyGEOUf5AL8PH0Q7sB4jk",
      "authorship_tag": "ABX9TyNDrFy6iK0zagSKYhC+5ure",
      "include_colab_link": true
    },
    "kernelspec": {
      "name": "python3",
      "display_name": "Python 3"
    },
    "language_info": {
      "name": "python"
    }
  },
  "cells": [
    {
      "cell_type": "markdown",
      "metadata": {
        "id": "view-in-github",
        "colab_type": "text"
      },
      "source": [
        "<a href=\"https://colab.research.google.com/github/zohaib166/python_general/blob/main/Python_Unit_II_Demo.ipynb\" target=\"_parent\"><img src=\"https://colab.research.google.com/assets/colab-badge.svg\" alt=\"Open In Colab\"/></a>"
      ]
    },
    {
      "cell_type": "markdown",
      "source": [
        "#Numpy\n",
        "## Ways to create numpy arrays"
      ],
      "metadata": {
        "id": "Cy6VN7U4qIDa"
      }
    },
    {
      "cell_type": "code",
      "execution_count": 2,
      "metadata": {
        "colab": {
          "base_uri": "https://localhost:8080/"
        },
        "id": "KfM7hBzlolar",
        "outputId": "016df96c-b4f0-4fca-9f08-4f55d72b398e"
      },
      "outputs": [
        {
          "output_type": "stream",
          "name": "stdout",
          "text": [
            "[2 3 4 5 6]\n",
            "<class 'numpy.ndarray'>\n"
          ]
        }
      ],
      "source": [
        "import numpy as np\n",
        "mylist = [2,3,4,5,6]\n",
        "myarray = np.array(mylist)\n",
        "print(myarray)\n",
        "print(type(myarray))\n"
      ]
    },
    {
      "cell_type": "code",
      "source": [
        "arr1 = np.arange(0,20)\n",
        "print(arr1)"
      ],
      "metadata": {
        "colab": {
          "base_uri": "https://localhost:8080/"
        },
        "id": "K-IU4U31qlEb",
        "outputId": "15c78ecc-6eed-49ab-b784-a16248ed7843"
      },
      "execution_count": 3,
      "outputs": [
        {
          "output_type": "stream",
          "name": "stdout",
          "text": [
            "[ 0  1  2  3  4  5  6  7  8  9 10 11 12 13 14 15 16 17 18 19]\n"
          ]
        }
      ]
    },
    {
      "cell_type": "code",
      "source": [
        "print(arr1.shape)"
      ],
      "metadata": {
        "colab": {
          "base_uri": "https://localhost:8080/"
        },
        "id": "tC_XzWxKreK1",
        "outputId": "7e43e6c7-40fb-461d-ab72-a2f092a5d1b3"
      },
      "execution_count": 4,
      "outputs": [
        {
          "output_type": "stream",
          "name": "stdout",
          "text": [
            "(20,)\n"
          ]
        }
      ]
    },
    {
      "cell_type": "code",
      "source": [
        "arr2 = np.reshape(arr1,(5,4))\n",
        "print(arr2)\n",
        "print(arr2.shape)"
      ],
      "metadata": {
        "colab": {
          "base_uri": "https://localhost:8080/"
        },
        "id": "_PWl-2V7rxuD",
        "outputId": "a1717462-719c-40ef-8d08-ecc5f2d808d2"
      },
      "execution_count": 5,
      "outputs": [
        {
          "output_type": "stream",
          "name": "stdout",
          "text": [
            "[[ 0  1  2  3]\n",
            " [ 4  5  6  7]\n",
            " [ 8  9 10 11]\n",
            " [12 13 14 15]\n",
            " [16 17 18 19]]\n",
            "(5, 4)\n"
          ]
        }
      ]
    },
    {
      "cell_type": "code",
      "source": [
        "arr3 = np.zeros((2,3))\n",
        "print(arr3)"
      ],
      "metadata": {
        "colab": {
          "base_uri": "https://localhost:8080/"
        },
        "id": "DrhnoqXOsMEJ",
        "outputId": "064a8e24-322e-4bc1-9ad3-c630eaf99d88"
      },
      "execution_count": 6,
      "outputs": [
        {
          "output_type": "stream",
          "name": "stdout",
          "text": [
            "[[0. 0. 0.]\n",
            " [0. 0. 0.]]\n"
          ]
        }
      ]
    },
    {
      "cell_type": "code",
      "source": [
        "arr4 = np.ones((4,5),np.int8)\n",
        "print(arr4)"
      ],
      "metadata": {
        "colab": {
          "base_uri": "https://localhost:8080/"
        },
        "id": "vD06iBR9uKiT",
        "outputId": "7cab04af-4afc-4d36-950e-65cfbbb103de"
      },
      "execution_count": 7,
      "outputs": [
        {
          "output_type": "stream",
          "name": "stdout",
          "text": [
            "[[1 1 1 1 1]\n",
            " [1 1 1 1 1]\n",
            " [1 1 1 1 1]\n",
            " [1 1 1 1 1]]\n"
          ]
        }
      ]
    },
    {
      "cell_type": "code",
      "source": [
        "arr5 = np.eye(5)\n",
        "print(arr5)"
      ],
      "metadata": {
        "colab": {
          "base_uri": "https://localhost:8080/"
        },
        "id": "VeBBiXm0uQ3B",
        "outputId": "cbdc474e-c27c-4439-d8b0-9f9d370ae4d9"
      },
      "execution_count": 8,
      "outputs": [
        {
          "output_type": "stream",
          "name": "stdout",
          "text": [
            "[[1. 0. 0. 0. 0.]\n",
            " [0. 1. 0. 0. 0.]\n",
            " [0. 0. 1. 0. 0.]\n",
            " [0. 0. 0. 1. 0.]\n",
            " [0. 0. 0. 0. 1.]]\n"
          ]
        }
      ]
    },
    {
      "cell_type": "code",
      "source": [
        "print(np.full((2,3),6))"
      ],
      "metadata": {
        "colab": {
          "base_uri": "https://localhost:8080/"
        },
        "id": "vKIEEOnVxedi",
        "outputId": "ed1e8751-536c-4b4b-9a17-7f76d6e3e2fa"
      },
      "execution_count": 56,
      "outputs": [
        {
          "output_type": "stream",
          "name": "stdout",
          "text": [
            "[[6 6 6]\n",
            " [6 6 6]]\n"
          ]
        }
      ]
    },
    {
      "cell_type": "code",
      "source": [
        "arr6 = np.linspace(1,5,10)\n",
        "print(arr6)"
      ],
      "metadata": {
        "colab": {
          "base_uri": "https://localhost:8080/"
        },
        "id": "QvHhEUyfupw_",
        "outputId": "e56fc28b-f861-4888-f9ea-5d766ae5f8cb"
      },
      "execution_count": 9,
      "outputs": [
        {
          "output_type": "stream",
          "name": "stdout",
          "text": [
            "[1.         1.44444444 1.88888889 2.33333333 2.77777778 3.22222222\n",
            " 3.66666667 4.11111111 4.55555556 5.        ]\n"
          ]
        }
      ]
    },
    {
      "cell_type": "code",
      "source": [
        "# Do not include last sample\n",
        "arr6 = np.linspace(1,5,10,False)\n",
        "print(arr6)"
      ],
      "metadata": {
        "colab": {
          "base_uri": "https://localhost:8080/"
        },
        "id": "MToippypvOIj",
        "outputId": "fd8a592a-9907-42ec-9e09-fb944720c26d"
      },
      "execution_count": 10,
      "outputs": [
        {
          "output_type": "stream",
          "name": "stdout",
          "text": [
            "[1.  1.4 1.8 2.2 2.6 3.  3.4 3.8 4.2 4.6]\n"
          ]
        }
      ]
    },
    {
      "cell_type": "code",
      "source": [
        "# Get stepsize\n",
        "arr6 = np.linspace(start = 1, stop = 5, num = 10, endpoint = True, retstep = True)\n",
        "print(arr6)"
      ],
      "metadata": {
        "colab": {
          "base_uri": "https://localhost:8080/"
        },
        "id": "cHX7-NqHvXz2",
        "outputId": "1a9e7b73-ef7d-4ff4-9e3d-a18742cfff49"
      },
      "execution_count": 11,
      "outputs": [
        {
          "output_type": "stream",
          "name": "stdout",
          "text": [
            "(array([1.        , 1.44444444, 1.88888889, 2.33333333, 2.77777778,\n",
            "       3.22222222, 3.66666667, 4.11111111, 4.55555556, 5.        ]), 0.4444444444444444)\n"
          ]
        }
      ]
    },
    {
      "cell_type": "code",
      "source": [
        "# array of random numbers\n",
        "arr7 = np.random.rand(5)\n",
        "print(arr7)"
      ],
      "metadata": {
        "colab": {
          "base_uri": "https://localhost:8080/"
        },
        "id": "JNUh3CqmwByX",
        "outputId": "5102b29f-573a-4802-b31f-38bf1ab70d94"
      },
      "execution_count": 12,
      "outputs": [
        {
          "output_type": "stream",
          "name": "stdout",
          "text": [
            "[0.84080654 0.1753416  0.40182276 0.94523449 0.68428194]\n"
          ]
        }
      ]
    },
    {
      "cell_type": "code",
      "source": [
        "arr7 = np.random.rand(5,5)\n",
        "print(arr7)"
      ],
      "metadata": {
        "colab": {
          "base_uri": "https://localhost:8080/"
        },
        "id": "Gl_8EuXNx3cb",
        "outputId": "2d6b70cd-6174-4c65-d219-0e286fab6e5d"
      },
      "execution_count": 13,
      "outputs": [
        {
          "output_type": "stream",
          "name": "stdout",
          "text": [
            "[[0.1248977  0.85700875 0.36465163 0.96233748 0.75823479]\n",
            " [0.94334506 0.47610409 0.10513263 0.27385381 0.58855681]\n",
            " [0.4369961  0.42282205 0.52287946 0.93883906 0.88623907]\n",
            " [0.95808669 0.11901296 0.33138329 0.36979575 0.87229475]\n",
            " [0.19760592 0.993187   0.96118437 0.94545123 0.80179357]]\n"
          ]
        }
      ]
    },
    {
      "cell_type": "code",
      "source": [
        "arr7 = np.random.randn(5,5)\n",
        "print(arr7)"
      ],
      "metadata": {
        "colab": {
          "base_uri": "https://localhost:8080/"
        },
        "id": "te0T3bCvyL68",
        "outputId": "01f4cb10-1dae-42ba-fbb9-091e3adfb539"
      },
      "execution_count": 14,
      "outputs": [
        {
          "output_type": "stream",
          "name": "stdout",
          "text": [
            "[[ 0.46852653  0.57622725  0.24706835 -0.93896344  1.04836845]\n",
            " [-0.91060708 -0.7416739   0.07835552  0.22039461 -0.61767095]\n",
            " [ 0.19544767 -0.2585816   0.2925218  -1.95941846 -0.97246312]\n",
            " [ 0.10896927  0.82947781 -0.2751646  -0.33696466 -0.28871275]\n",
            " [-2.14231977 -0.23267705  0.41894785  0.9513505   3.75518276]]\n"
          ]
        }
      ]
    },
    {
      "cell_type": "code",
      "source": [
        "arr7 = np.random.randint(1,100,(4,3))\n",
        "print(arr7)"
      ],
      "metadata": {
        "colab": {
          "base_uri": "https://localhost:8080/"
        },
        "id": "WrVZC54PzlTO",
        "outputId": "c8c987f3-4290-4104-db16-a1f0bc696251"
      },
      "execution_count": 15,
      "outputs": [
        {
          "output_type": "stream",
          "name": "stdout",
          "text": [
            "[[38 13 13]\n",
            " [80  8 74]\n",
            " [77 29  7]\n",
            " [11 57 26]]\n"
          ]
        }
      ]
    },
    {
      "cell_type": "code",
      "source": [
        "print(arr7.max())\n",
        "print(arr7.min())\n",
        "print(arr7.argmax()) #index having max\n",
        "print(arr7.argmin()) #index having min\n",
        "print(arr7.shape)"
      ],
      "metadata": {
        "colab": {
          "base_uri": "https://localhost:8080/"
        },
        "id": "LkPNjdOQz1aY",
        "outputId": "18f10806-cf8a-4c9e-b67f-0c0c638c5f99"
      },
      "execution_count": 16,
      "outputs": [
        {
          "output_type": "stream",
          "name": "stdout",
          "text": [
            "80\n",
            "7\n",
            "3\n",
            "8\n",
            "(4, 3)\n"
          ]
        }
      ]
    },
    {
      "cell_type": "code",
      "source": [
        "print(arr7.ndim) #tells the dimensions of an array"
      ],
      "metadata": {
        "id": "hZhOid0X0Gzm",
        "colab": {
          "base_uri": "https://localhost:8080/"
        },
        "outputId": "0b7d370c-c19f-4c04-f363-781ce522da7d"
      },
      "execution_count": 18,
      "outputs": [
        {
          "output_type": "stream",
          "name": "stdout",
          "text": [
            "2\n"
          ]
        }
      ]
    },
    {
      "cell_type": "code",
      "source": [
        "arr7 = arr7.reshape(-1,12)\n",
        "print(arr7)"
      ],
      "metadata": {
        "colab": {
          "base_uri": "https://localhost:8080/"
        },
        "id": "0h3PxCY9WQXl",
        "outputId": "54fdc312-73f2-4d8d-820a-997e273bf362"
      },
      "execution_count": 21,
      "outputs": [
        {
          "output_type": "stream",
          "name": "stdout",
          "text": [
            "[[38 13 13 80  8 74 77 29  7 11 57 26]]\n"
          ]
        }
      ]
    },
    {
      "cell_type": "code",
      "source": [
        "x = [1,2,3,4]\n",
        "y = [10,20,30,40]\n",
        "z = [11, 22, 33, 44]\n",
        "mul_arr = np.array([x,y,z])\n",
        "print(mul_arr.shape)"
      ],
      "metadata": {
        "colab": {
          "base_uri": "https://localhost:8080/"
        },
        "id": "ZYis7TnAW-7G",
        "outputId": "3269ffbc-4b9d-4296-c9e7-60cff4cfd55e"
      },
      "execution_count": 23,
      "outputs": [
        {
          "output_type": "stream",
          "name": "stdout",
          "text": [
            "(3, 4)\n"
          ]
        }
      ]
    },
    {
      "cell_type": "code",
      "source": [
        "print(mul_arr.reshape(1,12))"
      ],
      "metadata": {
        "colab": {
          "base_uri": "https://localhost:8080/"
        },
        "id": "BXRZO7S1X4mH",
        "outputId": "9cc90460-3e22-4b74-c0de-b41102908c61"
      },
      "execution_count": 25,
      "outputs": [
        {
          "output_type": "stream",
          "name": "stdout",
          "text": [
            "[[ 1  2  3  4 10 20 30 40 11 22 33 44]]\n"
          ]
        }
      ]
    },
    {
      "cell_type": "code",
      "source": [
        "num1 = np.array([[1,2,3],[4,5,6]])\n",
        "num2 = np.array([[7,8,9],[10,20,30]])"
      ],
      "metadata": {
        "id": "CYtFGPmtYR0o"
      },
      "execution_count": 26,
      "outputs": []
    },
    {
      "cell_type": "markdown",
      "source": [
        "## Numpy Operations"
      ],
      "metadata": {
        "id": "WtGwuNOl8RgN"
      }
    },
    {
      "cell_type": "code",
      "source": [
        "print(num2-num1)"
      ],
      "metadata": {
        "colab": {
          "base_uri": "https://localhost:8080/"
        },
        "id": "tPhatDyTaBj7",
        "outputId": "8adfcf6d-0c54-4b1c-f399-ccddb1200796"
      },
      "execution_count": 31,
      "outputs": [
        {
          "output_type": "stream",
          "name": "stdout",
          "text": [
            "[[ 6  6  6]\n",
            " [ 6 15 24]]\n"
          ]
        }
      ]
    },
    {
      "cell_type": "code",
      "source": [
        "print(num2+num1)"
      ],
      "metadata": {
        "colab": {
          "base_uri": "https://localhost:8080/"
        },
        "id": "myzgIawBaF5y",
        "outputId": "45c4edc5-146c-4b73-9053-6b41c433bcd5"
      },
      "execution_count": 30,
      "outputs": [
        {
          "output_type": "stream",
          "name": "stdout",
          "text": [
            "[[ 8 10 12]\n",
            " [14 25 36]]\n"
          ]
        }
      ]
    },
    {
      "cell_type": "code",
      "source": [
        "print(num2*num1)"
      ],
      "metadata": {
        "colab": {
          "base_uri": "https://localhost:8080/"
        },
        "id": "DZ4dM1hCaQ6W",
        "outputId": "3be0dc18-3e05-46d1-8a3a-40dbb0919fb3"
      },
      "execution_count": 32,
      "outputs": [
        {
          "output_type": "stream",
          "name": "stdout",
          "text": [
            "[[  7  16  27]\n",
            " [ 40 100 180]]\n"
          ]
        }
      ]
    },
    {
      "cell_type": "code",
      "source": [
        "print(num1.dot(num2.transpose()))"
      ],
      "metadata": {
        "colab": {
          "base_uri": "https://localhost:8080/"
        },
        "id": "t3AldsjhaVj-",
        "outputId": "6fe32f7d-c36e-4b68-bfac-5c5660a43227"
      },
      "execution_count": 34,
      "outputs": [
        {
          "output_type": "stream",
          "name": "stdout",
          "text": [
            "[[ 50 140]\n",
            " [122 320]]\n"
          ]
        }
      ]
    },
    {
      "cell_type": "code",
      "source": [
        "print(num2 / num1)"
      ],
      "metadata": {
        "colab": {
          "base_uri": "https://localhost:8080/"
        },
        "id": "gYvj1WjOaopm",
        "outputId": "c254a647-40e7-4ea7-c2a2-4cf86c07dd0a"
      },
      "execution_count": 35,
      "outputs": [
        {
          "output_type": "stream",
          "name": "stdout",
          "text": [
            "[[7.  4.  3. ]\n",
            " [2.5 4.  5. ]]\n"
          ]
        }
      ]
    },
    {
      "cell_type": "markdown",
      "source": [
        "## Array slicing and indexing"
      ],
      "metadata": {
        "id": "J18j1UOdcrf5"
      }
    },
    {
      "cell_type": "code",
      "source": [
        "arr8 = np.random.randint(1,20,10)\n",
        "print(arr8)"
      ],
      "metadata": {
        "colab": {
          "base_uri": "https://localhost:8080/"
        },
        "id": "a5Mk0tXcbFvS",
        "outputId": "763a74a7-7c96-442a-f74d-1c87fe77d575"
      },
      "execution_count": 37,
      "outputs": [
        {
          "output_type": "stream",
          "name": "stdout",
          "text": [
            "[ 9  7 12 13 18  7  7 11 13  3]\n"
          ]
        }
      ]
    },
    {
      "cell_type": "code",
      "source": [
        "arr9 = arr8[0:5]\n",
        "print(arr9)"
      ],
      "metadata": {
        "colab": {
          "base_uri": "https://localhost:8080/"
        },
        "id": "fVNUBt7Yc0TR",
        "outputId": "fbd0da8f-efcb-4cff-83d5-793db3822a59"
      },
      "execution_count": 39,
      "outputs": [
        {
          "output_type": "stream",
          "name": "stdout",
          "text": [
            "[ 9  7 12 13 18]\n"
          ]
        }
      ]
    },
    {
      "cell_type": "code",
      "source": [
        "arr9[:] = 5"
      ],
      "metadata": {
        "id": "IKp7J35EdAME"
      },
      "execution_count": 40,
      "outputs": []
    },
    {
      "cell_type": "code",
      "source": [
        "print(arr8)"
      ],
      "metadata": {
        "colab": {
          "base_uri": "https://localhost:8080/"
        },
        "id": "RDIDdGDbilPZ",
        "outputId": "9cb19586-5feb-426f-9f2f-6d5abae29e63"
      },
      "execution_count": 41,
      "outputs": [
        {
          "output_type": "stream",
          "name": "stdout",
          "text": [
            "[ 5  5  5  5  5  7  7 11 13  3]\n"
          ]
        }
      ]
    },
    {
      "cell_type": "code",
      "source": [
        "arr8_copy = arr8.copy()\n",
        "arr8_slice = arr8_copy[0:6]"
      ],
      "metadata": {
        "id": "WGQjZHf_inBJ"
      },
      "execution_count": 42,
      "outputs": []
    },
    {
      "cell_type": "code",
      "source": [
        "arr8_slice[:] = 8"
      ],
      "metadata": {
        "id": "uOI5iY3Xi8sh"
      },
      "execution_count": 43,
      "outputs": []
    },
    {
      "cell_type": "code",
      "source": [
        "print(arr8)"
      ],
      "metadata": {
        "colab": {
          "base_uri": "https://localhost:8080/"
        },
        "id": "Kko4gwGNjArQ",
        "outputId": "cd882597-3721-41d5-c699-02219537c57e"
      },
      "execution_count": 46,
      "outputs": [
        {
          "output_type": "stream",
          "name": "stdout",
          "text": [
            "[ 5  5  5  5  5  7  7 11 13  3]\n"
          ]
        }
      ]
    },
    {
      "cell_type": "code",
      "source": [
        "print(num1)\n",
        "print(num1[0,2])"
      ],
      "metadata": {
        "colab": {
          "base_uri": "https://localhost:8080/"
        },
        "id": "1AQhEEgKjEqF",
        "outputId": "2bc7dbb5-146c-4f6c-8606-655a3dd1ff9b"
      },
      "execution_count": 50,
      "outputs": [
        {
          "output_type": "stream",
          "name": "stdout",
          "text": [
            "[[1 2 3]\n",
            " [4 5 6]]\n",
            "3\n"
          ]
        }
      ]
    },
    {
      "cell_type": "code",
      "source": [
        "print(num1[0,:])"
      ],
      "metadata": {
        "colab": {
          "base_uri": "https://localhost:8080/"
        },
        "id": "GveH1kAYt83n",
        "outputId": "803e61fd-0504-469d-c83d-fd9aa0ee43b3"
      },
      "execution_count": 51,
      "outputs": [
        {
          "output_type": "stream",
          "name": "stdout",
          "text": [
            "[1 2 3]\n"
          ]
        }
      ]
    },
    {
      "cell_type": "code",
      "source": [
        "arr_2d = np.arange(50).reshape(5,10)\n",
        "print(arr_2d)"
      ],
      "metadata": {
        "colab": {
          "base_uri": "https://localhost:8080/"
        },
        "id": "Mnk6fSbNxHlU",
        "outputId": "96304dfa-d2b3-4498-de41-e02d55ae82cd"
      },
      "execution_count": 61,
      "outputs": [
        {
          "output_type": "stream",
          "name": "stdout",
          "text": [
            "[[ 0  1  2  3  4  5  6  7  8  9]\n",
            " [10 11 12 13 14 15 16 17 18 19]\n",
            " [20 21 22 23 24 25 26 27 28 29]\n",
            " [30 31 32 33 34 35 36 37 38 39]\n",
            " [40 41 42 43 44 45 46 47 48 49]]\n"
          ]
        }
      ]
    },
    {
      "cell_type": "markdown",
      "source": [
        "## Numpy Functions"
      ],
      "metadata": {
        "id": "qVcTVBBU8Yk8"
      }
    },
    {
      "cell_type": "code",
      "source": [
        "np.sum(arr_2d)"
      ],
      "metadata": {
        "colab": {
          "base_uri": "https://localhost:8080/"
        },
        "id": "2xfJxYK1vJtJ",
        "outputId": "f39140fa-c235-4a5e-b011-0de142410e64"
      },
      "execution_count": 62,
      "outputs": [
        {
          "output_type": "execute_result",
          "data": {
            "text/plain": [
              "1225"
            ]
          },
          "metadata": {},
          "execution_count": 62
        }
      ]
    },
    {
      "cell_type": "code",
      "source": [
        "np.sum(arr_2d, axis = 0)"
      ],
      "metadata": {
        "colab": {
          "base_uri": "https://localhost:8080/"
        },
        "id": "QevZnzbXv34e",
        "outputId": "f958dcf7-fcc3-40c0-fd89-83e5265ff7f7"
      },
      "execution_count": 63,
      "outputs": [
        {
          "output_type": "execute_result",
          "data": {
            "text/plain": [
              "array([100, 105, 110, 115, 120, 125, 130, 135, 140, 145])"
            ]
          },
          "metadata": {},
          "execution_count": 63
        }
      ]
    },
    {
      "cell_type": "code",
      "source": [
        "np.sum(arr_2d, axis = 1)"
      ],
      "metadata": {
        "colab": {
          "base_uri": "https://localhost:8080/"
        },
        "id": "5ITJJCUU0FHX",
        "outputId": "6c9d9eff-16ed-4216-dd5e-5b017b4e4a90"
      },
      "execution_count": 64,
      "outputs": [
        {
          "output_type": "execute_result",
          "data": {
            "text/plain": [
              "array([ 45, 145, 245, 345, 445])"
            ]
          },
          "metadata": {},
          "execution_count": 64
        }
      ]
    },
    {
      "cell_type": "code",
      "source": [
        "print(arr_2d[1:3,4:6])"
      ],
      "metadata": {
        "colab": {
          "base_uri": "https://localhost:8080/"
        },
        "id": "ddnPI7bd0J07",
        "outputId": "9ff0b080-9e9f-4cef-e989-ccad1d0ed8ec"
      },
      "execution_count": 66,
      "outputs": [
        {
          "output_type": "stream",
          "name": "stdout",
          "text": [
            "[[14 15]\n",
            " [24 25]]\n"
          ]
        }
      ]
    },
    {
      "cell_type": "code",
      "source": [
        "num4 = np.arange(1,10)\n",
        "print(num4)"
      ],
      "metadata": {
        "colab": {
          "base_uri": "https://localhost:8080/"
        },
        "id": "OhPtkyzI0w8j",
        "outputId": "228dc828-7039-49cf-e34d-06471f766209"
      },
      "execution_count": 72,
      "outputs": [
        {
          "output_type": "stream",
          "name": "stdout",
          "text": [
            "[1 2 3 4 5 6 7 8 9]\n"
          ]
        }
      ]
    },
    {
      "cell_type": "code",
      "source": [
        "print(num4**2)"
      ],
      "metadata": {
        "colab": {
          "base_uri": "https://localhost:8080/"
        },
        "id": "QTLrpg5C3i0u",
        "outputId": "a7609e7e-7295-44ad-a0a0-1662af606bf6"
      },
      "execution_count": 73,
      "outputs": [
        {
          "output_type": "stream",
          "name": "stdout",
          "text": [
            "[ 1  4  9 16 25 36 49 64 81]\n"
          ]
        }
      ]
    },
    {
      "cell_type": "code",
      "source": [
        "print(np.sqrt(num4))"
      ],
      "metadata": {
        "colab": {
          "base_uri": "https://localhost:8080/"
        },
        "id": "4foQGNqZ4K2V",
        "outputId": "75f17d0b-1134-4a0a-bf37-a0014a11bac6"
      },
      "execution_count": 74,
      "outputs": [
        {
          "output_type": "stream",
          "name": "stdout",
          "text": [
            "[1.         1.41421356 1.73205081 2.         2.23606798 2.44948974\n",
            " 2.64575131 2.82842712 3.        ]\n"
          ]
        }
      ]
    },
    {
      "cell_type": "code",
      "source": [
        "print(np.exp(num4))"
      ],
      "metadata": {
        "colab": {
          "base_uri": "https://localhost:8080/"
        },
        "id": "1k3tI5Me4RoG",
        "outputId": "056bb3ac-eb41-4b96-f43a-148a45c98842"
      },
      "execution_count": 75,
      "outputs": [
        {
          "output_type": "stream",
          "name": "stdout",
          "text": [
            "[2.71828183e+00 7.38905610e+00 2.00855369e+01 5.45981500e+01\n",
            " 1.48413159e+02 4.03428793e+02 1.09663316e+03 2.98095799e+03\n",
            " 8.10308393e+03]\n"
          ]
        }
      ]
    },
    {
      "cell_type": "markdown",
      "source": [
        "# Pandas"
      ],
      "metadata": {
        "id": "RJZedYry87vm"
      }
    },
    {
      "cell_type": "markdown",
      "source": [
        "## Reading data from files into dataframes\n"
      ],
      "metadata": {
        "id": "Hc52-JUEFGdu"
      }
    },
    {
      "cell_type": "code",
      "source": [
        "import pandas as pd\n",
        "import numpy as np\n",
        "\n",
        "flower_df = pd.read_csv(\"/content/drive/MyDrive/Colab Notebooks/IRIS.csv\",index_col = 0)\n",
        "print(flower_df)"
      ],
      "metadata": {
        "colab": {
          "base_uri": "https://localhost:8080/"
        },
        "id": "KR5iuveW89-9",
        "outputId": "3d25b11c-e3f1-43df-d39f-24e0f3d5854b"
      },
      "execution_count": 84,
      "outputs": [
        {
          "output_type": "stream",
          "name": "stdout",
          "text": [
            "              sepal_width  petal_length  petal_width         species\n",
            "sepal_length                                                        \n",
            "5.1                   3.5           1.4          0.2     Iris-setosa\n",
            "4.9                   3.0           1.4          0.2     Iris-setosa\n",
            "4.7                   3.2           1.3          0.2     Iris-setosa\n",
            "4.6                   3.1           1.5          0.2     Iris-setosa\n",
            "5.0                   3.6           1.4          0.2     Iris-setosa\n",
            "...                   ...           ...          ...             ...\n",
            "6.7                   3.0           5.2          2.3  Iris-virginica\n",
            "6.3                   2.5           5.0          1.9  Iris-virginica\n",
            "6.5                   3.0           5.2          2.0  Iris-virginica\n",
            "6.2                   3.4           5.4          2.3  Iris-virginica\n",
            "5.9                   3.0           5.1          1.8  Iris-virginica\n",
            "\n",
            "[150 rows x 4 columns]\n"
          ]
        }
      ]
    },
    {
      "cell_type": "code",
      "source": [
        "flower_excel = pd.read_excel(\"/content/drive/MyDrive/Colab Notebooks/IRIS_Excel.xlsx\",sheet_name=\"IRIS\")\n",
        "print(flower_excel)"
      ],
      "metadata": {
        "colab": {
          "base_uri": "https://localhost:8080/"
        },
        "id": "GTxqT8J9INtS",
        "outputId": "ee93fdbe-3903-43af-c646-1ddc3f52cdcb"
      },
      "execution_count": 88,
      "outputs": [
        {
          "output_type": "stream",
          "name": "stdout",
          "text": [
            "     sepal_length  sepal_width  petal_length  petal_width         species\n",
            "0             5.1          3.5           1.4          0.2     Iris-setosa\n",
            "1             4.9          3.0           1.4          0.2     Iris-setosa\n",
            "2             4.7          3.2           1.3          0.2     Iris-setosa\n",
            "3             4.6          3.1           1.5          0.2     Iris-setosa\n",
            "4             5.0          3.6           1.4          0.2     Iris-setosa\n",
            "..            ...          ...           ...          ...             ...\n",
            "145           6.7          3.0           5.2          2.3  Iris-virginica\n",
            "146           6.3          2.5           5.0          1.9  Iris-virginica\n",
            "147           6.5          3.0           5.2          2.0  Iris-virginica\n",
            "148           6.2          3.4           5.4          2.3  Iris-virginica\n",
            "149           5.9          3.0           5.1          1.8  Iris-virginica\n",
            "\n",
            "[150 rows x 5 columns]\n"
          ]
        }
      ]
    },
    {
      "cell_type": "code",
      "source": [
        "flower_table = pd.read_table(\"/content/drive/MyDrive/Colab Notebooks/IRIS_txt.txt\", sep=\"\\t\")\n",
        "print(flower_table)"
      ],
      "metadata": {
        "colab": {
          "base_uri": "https://localhost:8080/"
        },
        "id": "tWgx6iWDKH1F",
        "outputId": "0781cb3b-30b4-4e2e-dbbf-6040f988e12a"
      },
      "execution_count": 90,
      "outputs": [
        {
          "output_type": "stream",
          "name": "stdout",
          "text": [
            "     sepal_length  sepal_width  petal_length  petal_width         species\n",
            "0             5.1          3.5           1.4          0.2     Iris-setosa\n",
            "1             4.9          3.0           1.4          0.2     Iris-setosa\n",
            "2             4.7          3.2           1.3          0.2     Iris-setosa\n",
            "3             4.6          3.1           1.5          0.2     Iris-setosa\n",
            "4             5.0          3.6           1.4          0.2     Iris-setosa\n",
            "..            ...          ...           ...          ...             ...\n",
            "145           6.7          3.0           5.2          2.3  Iris-virginica\n",
            "146           6.3          2.5           5.0          1.9  Iris-virginica\n",
            "147           6.5          3.0           5.2          2.0  Iris-virginica\n",
            "148           6.2          3.4           5.4          2.3  Iris-virginica\n",
            "149           5.9          3.0           5.1          1.8  Iris-virginica\n",
            "\n",
            "[150 rows x 5 columns]\n"
          ]
        }
      ]
    },
    {
      "cell_type": "code",
      "source": [],
      "metadata": {
        "id": "laUmaTRDL8FB"
      },
      "execution_count": null,
      "outputs": []
    }
  ]
}