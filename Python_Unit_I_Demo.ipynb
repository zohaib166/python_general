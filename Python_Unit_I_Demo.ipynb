{
  "nbformat": 4,
  "nbformat_minor": 0,
  "metadata": {
    "colab": {
      "provenance": [],
      "authorship_tag": "ABX9TyNWeSY2Ih8dZUCZ2AUYLhLC",
      "include_colab_link": true
    },
    "kernelspec": {
      "name": "python3",
      "display_name": "Python 3"
    },
    "language_info": {
      "name": "python"
    }
  },
  "cells": [
    {
      "cell_type": "markdown",
      "metadata": {
        "id": "view-in-github",
        "colab_type": "text"
      },
      "source": [
        "<a href=\"https://colab.research.google.com/github/zohaib166/python_general/blob/main/Python_Unit_I_Demo.ipynb\" target=\"_parent\"><img src=\"https://colab.research.google.com/assets/colab-badge.svg\" alt=\"Open In Colab\"/></a>"
      ]
    },
    {
      "cell_type": "code",
      "execution_count": null,
      "metadata": {
        "colab": {
          "base_uri": "https://localhost:8080/"
        },
        "id": "pmt3LWnaK5qc",
        "outputId": "895e0223-6b0b-4624-80be-78c7659455b9"
      },
      "outputs": [
        {
          "output_type": "stream",
          "name": "stdout",
          "text": [
            "Python 3.10.12\n"
          ]
        }
      ],
      "source": [
        "!python --version"
      ]
    },
    {
      "cell_type": "markdown",
      "source": [
        "## **Tokens and Keywords**"
      ],
      "metadata": {
        "id": "zJvlbdOPGEuH"
      }
    },
    {
      "cell_type": "markdown",
      "source": [
        "![image.png](data:image/png;base64,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)"
      ],
      "metadata": {
        "id": "18gwXOm4YVO6"
      }
    },
    {
      "cell_type": "markdown",
      "source": [
        "## **Python as Calculator**\n",
        "**Objectives:**\n",
        "\n",
        "*Arithmetic Operators*: ***, +,-,*,/,//,%\n",
        "\n",
        "*Assignment Operators*: =, +=, -=, *=, /=, //=, %=, **=\n",
        "\n",
        "*Relational Operators*: ==, !=, >, <, >=, <=\n",
        "\n",
        "*Boolean Operator*: and, or, not\n",
        "\n",
        "*Identity operator*: is\n",
        "\n",
        "*Membership Operators*: in\n",
        "\n",
        "*Deletion operator*: del\n",
        "\n",
        "*Bitwise Operator*: &, |, ^, ~, <<, >>\n",
        "\n",
        "\n",
        "## Number"
      ],
      "metadata": {
        "id": "e_idBNQ1ZFTS"
      }
    },
    {
      "cell_type": "code",
      "source": [
        "2+2"
      ],
      "metadata": {
        "id": "dG0khaD8Zwwy",
        "colab": {
          "base_uri": "https://localhost:8080/"
        },
        "outputId": "b536e416-8616-477e-9dfa-2a01b837a86f"
      },
      "execution_count": null,
      "outputs": [
        {
          "output_type": "execute_result",
          "data": {
            "text/plain": [
              "4"
            ]
          },
          "metadata": {},
          "execution_count": 36
        }
      ]
    },
    {
      "cell_type": "code",
      "source": [
        "50 - 5*6"
      ],
      "metadata": {
        "colab": {
          "base_uri": "https://localhost:8080/"
        },
        "id": "MUTICAczIYao",
        "outputId": "65ea7e51-3ab6-45b9-898a-c45ea24c3c92"
      },
      "execution_count": null,
      "outputs": [
        {
          "output_type": "execute_result",
          "data": {
            "text/plain": [
              "20"
            ]
          },
          "metadata": {},
          "execution_count": 37
        }
      ]
    },
    {
      "cell_type": "code",
      "source": [
        "(50 - 5*6)/4"
      ],
      "metadata": {
        "colab": {
          "base_uri": "https://localhost:8080/"
        },
        "id": "vZe2LFjXI7Qv",
        "outputId": "aa26f77b-cb9a-46fa-877f-7bd64b9d90e9"
      },
      "execution_count": null,
      "outputs": [
        {
          "output_type": "execute_result",
          "data": {
            "text/plain": [
              "5.0"
            ]
          },
          "metadata": {},
          "execution_count": 38
        }
      ]
    },
    {
      "cell_type": "code",
      "source": [
        "8/5"
      ],
      "metadata": {
        "colab": {
          "base_uri": "https://localhost:8080/"
        },
        "id": "-WM0mFLjI_e5",
        "outputId": "dec80001-0436-4f49-dc3e-48eb6d8c732e"
      },
      "execution_count": null,
      "outputs": [
        {
          "output_type": "execute_result",
          "data": {
            "text/plain": [
              "1.6"
            ]
          },
          "metadata": {},
          "execution_count": 39
        }
      ]
    },
    {
      "cell_type": "code",
      "source": [
        "23//5"
      ],
      "metadata": {
        "colab": {
          "base_uri": "https://localhost:8080/"
        },
        "id": "eYsao008JEWs",
        "outputId": "7513695c-1866-426f-e98a-18ca3e393cf5"
      },
      "execution_count": null,
      "outputs": [
        {
          "output_type": "execute_result",
          "data": {
            "text/plain": [
              "4"
            ]
          },
          "metadata": {},
          "execution_count": 40
        }
      ]
    },
    {
      "cell_type": "code",
      "source": [
        "23 % 5"
      ],
      "metadata": {
        "colab": {
          "base_uri": "https://localhost:8080/"
        },
        "id": "yz2yGqM1JIDS",
        "outputId": "8cb9e287-6a38-4cd0-953f-b90ea402261c"
      },
      "execution_count": null,
      "outputs": [
        {
          "output_type": "execute_result",
          "data": {
            "text/plain": [
              "3"
            ]
          },
          "metadata": {},
          "execution_count": 41
        }
      ]
    },
    {
      "cell_type": "code",
      "source": [
        "5 ** 2"
      ],
      "metadata": {
        "colab": {
          "base_uri": "https://localhost:8080/"
        },
        "id": "6w9iOIQZKbcO",
        "outputId": "b17a82e9-0652-4591-e66c-dbf4b6fb1ec6"
      },
      "execution_count": null,
      "outputs": [
        {
          "output_type": "execute_result",
          "data": {
            "text/plain": [
              "25"
            ]
          },
          "metadata": {},
          "execution_count": 42
        }
      ]
    },
    {
      "cell_type": "code",
      "source": [
        "4 * 3.75 + 1"
      ],
      "metadata": {
        "colab": {
          "base_uri": "https://localhost:8080/"
        },
        "id": "xhmAqWbeKkCN",
        "outputId": "af2a96c7-6882-487a-ecff-b3821a8f45a3"
      },
      "execution_count": null,
      "outputs": [
        {
          "output_type": "execute_result",
          "data": {
            "text/plain": [
              "16.0"
            ]
          },
          "metadata": {},
          "execution_count": 43
        }
      ]
    },
    {
      "cell_type": "markdown",
      "source": [
        "##Text"
      ],
      "metadata": {
        "id": "6l2vSFddLZnS"
      }
    },
    {
      "cell_type": "code",
      "source": [
        "'spam eggs'"
      ],
      "metadata": {
        "colab": {
          "base_uri": "https://localhost:8080/",
          "height": 36
        },
        "id": "_KGL_HW6Lj2n",
        "outputId": "15345f0f-1cd2-4a74-88b3-dbd1b33ac668"
      },
      "execution_count": null,
      "outputs": [
        {
          "output_type": "execute_result",
          "data": {
            "text/plain": [
              "'spam eggs'"
            ],
            "application/vnd.google.colaboratory.intrinsic+json": {
              "type": "string"
            }
          },
          "metadata": {},
          "execution_count": 44
        }
      ]
    },
    {
      "cell_type": "code",
      "source": [
        "\"Paris rabbit got your back :)! Yay!\""
      ],
      "metadata": {
        "colab": {
          "base_uri": "https://localhost:8080/",
          "height": 36
        },
        "id": "HvYAjtEmMUBf",
        "outputId": "8ee92b35-d3c4-48e5-f6f5-098c71e64fd7"
      },
      "execution_count": null,
      "outputs": [
        {
          "output_type": "execute_result",
          "data": {
            "text/plain": [
              "'Paris rabbit got your back :)! Yay!'"
            ],
            "application/vnd.google.colaboratory.intrinsic+json": {
              "type": "string"
            }
          },
          "metadata": {},
          "execution_count": 45
        }
      ]
    },
    {
      "cell_type": "code",
      "source": [
        "'1975'"
      ],
      "metadata": {
        "colab": {
          "base_uri": "https://localhost:8080/",
          "height": 36
        },
        "id": "8vhvw7A7NPib",
        "outputId": "a36900d8-ec23-4bc8-b037-ced3d1916338"
      },
      "execution_count": null,
      "outputs": [
        {
          "output_type": "execute_result",
          "data": {
            "text/plain": [
              "'1975'"
            ],
            "application/vnd.google.colaboratory.intrinsic+json": {
              "type": "string"
            }
          },
          "metadata": {},
          "execution_count": 46
        }
      ]
    },
    {
      "cell_type": "code",
      "source": [
        "# Printing ' - Method 1\n",
        "'doesn\\'t'"
      ],
      "metadata": {
        "colab": {
          "base_uri": "https://localhost:8080/",
          "height": 36
        },
        "id": "1IgE1TE1NT8L",
        "outputId": "cae2b67c-7c3e-4403-c8a5-80e986561fdd"
      },
      "execution_count": null,
      "outputs": [
        {
          "output_type": "execute_result",
          "data": {
            "text/plain": [
              "\"doesn't\""
            ],
            "application/vnd.google.colaboratory.intrinsic+json": {
              "type": "string"
            }
          },
          "metadata": {},
          "execution_count": 47
        }
      ]
    },
    {
      "cell_type": "code",
      "source": [
        "# Printing ' - Method 2\n",
        "\"doesn't\""
      ],
      "metadata": {
        "colab": {
          "base_uri": "https://localhost:8080/",
          "height": 36
        },
        "id": "qjFXYkqMNX-a",
        "outputId": "05c130a1-e78a-4506-ddc4-f8a39e73f65c"
      },
      "execution_count": null,
      "outputs": [
        {
          "output_type": "execute_result",
          "data": {
            "text/plain": [
              "\"doesn't\""
            ],
            "application/vnd.google.colaboratory.intrinsic+json": {
              "type": "string"
            }
          },
          "metadata": {},
          "execution_count": 48
        }
      ]
    },
    {
      "cell_type": "code",
      "source": [
        "# Printing \" - method 1\n",
        "print('\"Yes,\" they said.')"
      ],
      "metadata": {
        "colab": {
          "base_uri": "https://localhost:8080/"
        },
        "id": "xdIoDI4xNch-",
        "outputId": "ae8db21e-1279-4256-9452-fad748b25432"
      },
      "execution_count": null,
      "outputs": [
        {
          "output_type": "stream",
          "name": "stdout",
          "text": [
            "\"Yes,\" they said.\n"
          ]
        }
      ]
    },
    {
      "cell_type": "code",
      "source": [
        "# Printing \" - method 2\n",
        "print(\"\\\"Yes,\\\" they said.\")"
      ],
      "metadata": {
        "colab": {
          "base_uri": "https://localhost:8080/"
        },
        "id": "zI0QUJ9zNgoz",
        "outputId": "f3ab80bd-7827-41fb-e66d-123acef31967"
      },
      "execution_count": null,
      "outputs": [
        {
          "output_type": "stream",
          "name": "stdout",
          "text": [
            "\"Yes,\" they said.\n"
          ]
        }
      ]
    },
    {
      "cell_type": "code",
      "source": [
        "# escaping \\\n",
        "print(\"C:\\some\\\\name\")"
      ],
      "metadata": {
        "colab": {
          "base_uri": "https://localhost:8080/"
        },
        "id": "KCymIxMaOLeF",
        "outputId": "16a28568-d1b3-48bf-9915-e1201530f77d"
      },
      "execution_count": null,
      "outputs": [
        {
          "output_type": "stream",
          "name": "stdout",
          "text": [
            "C:\\some\\name\n"
          ]
        }
      ]
    },
    {
      "cell_type": "code",
      "source": [
        "# raw string\n",
        "print(r\"C:\\some\\name\")"
      ],
      "metadata": {
        "colab": {
          "base_uri": "https://localhost:8080/"
        },
        "id": "tgPvjoIhOi8C",
        "outputId": "c0df37fb-47fd-4e1e-c8c5-88790e046bc5"
      },
      "execution_count": null,
      "outputs": [
        {
          "output_type": "stream",
          "name": "stdout",
          "text": [
            "C:\\some\\name\n"
          ]
        }
      ]
    },
    {
      "cell_type": "code",
      "source": [
        "#multiline print\n",
        "print(\"\"\"Zohaib\n",
        "Hasan\"\"\")"
      ],
      "metadata": {
        "colab": {
          "base_uri": "https://localhost:8080/"
        },
        "id": "Il-QcVhtOu8C",
        "outputId": "b8b36312-b2b2-4114-e52b-4b4917947eeb"
      },
      "execution_count": null,
      "outputs": [
        {
          "output_type": "stream",
          "name": "stdout",
          "text": [
            "Zohaib\n",
            "Hasan\n"
          ]
        }
      ]
    },
    {
      "cell_type": "code",
      "source": [
        "print(2*'ma' + 'earth')"
      ],
      "metadata": {
        "colab": {
          "base_uri": "https://localhost:8080/"
        },
        "id": "--B_2oBwULw5",
        "outputId": "60e01017-3d93-4ead-a95f-6fbca0055567"
      },
      "execution_count": null,
      "outputs": [
        {
          "output_type": "stream",
          "name": "stdout",
          "text": [
            "mamaearth\n"
          ]
        }
      ]
    },
    {
      "cell_type": "code",
      "source": [
        "# two sentence written next to each other are automatically joined\n",
        "'Py' 'thon'"
      ],
      "metadata": {
        "colab": {
          "base_uri": "https://localhost:8080/",
          "height": 36
        },
        "id": "snJL2xJxmG2C",
        "outputId": "3285c406-0aa0-4c4a-c819-7efb832bd7ae"
      },
      "execution_count": null,
      "outputs": [
        {
          "output_type": "execute_result",
          "data": {
            "text/plain": [
              "'Python'"
            ],
            "application/vnd.google.colaboratory.intrinsic+json": {
              "type": "string"
            }
          },
          "metadata": {},
          "execution_count": 55
        }
      ]
    },
    {
      "cell_type": "code",
      "source": [
        "# the above feature helps in changing line while printing a large sentence\n",
        "text = ('Put several strings within parentheses '\n",
        "        'to have them joined together.')\n",
        "print(text)"
      ],
      "metadata": {
        "colab": {
          "base_uri": "https://localhost:8080/"
        },
        "id": "-LjYEmL-mM8X",
        "outputId": "ed952755-5899-4a24-9422-461bd90132e3"
      },
      "execution_count": null,
      "outputs": [
        {
          "output_type": "stream",
          "name": "stdout",
          "text": [
            "Put several strings within parentheses to have them joined together.\n"
          ]
        }
      ]
    },
    {
      "cell_type": "code",
      "source": [
        "#concatenate variable with literals\n",
        "prefix = 'py'\n",
        "print(prefix+'thon')"
      ],
      "metadata": {
        "colab": {
          "base_uri": "https://localhost:8080/"
        },
        "id": "2m0fDYiUmuYq",
        "outputId": "506aeb04-69ee-4ea8-855f-f99d81fba2e2"
      },
      "execution_count": null,
      "outputs": [
        {
          "output_type": "stream",
          "name": "stdout",
          "text": [
            "python\n"
          ]
        }
      ]
    },
    {
      "cell_type": "markdown",
      "source": [
        "## Indexing and slicing of strings\n",
        "\n"
      ],
      "metadata": {
        "id": "lDfdQboAnEpy"
      }
    },
    {
      "cell_type": "code",
      "source": [
        "word = 'Python'\n",
        "print(word[0])\n",
        "print(word[5])\n",
        "print(word[-1])\n",
        "print(word[-6])"
      ],
      "metadata": {
        "colab": {
          "base_uri": "https://localhost:8080/"
        },
        "id": "35xgFLp3nJap",
        "outputId": "aaeed39f-857a-4d8c-ec45-e324921ac7b3"
      },
      "execution_count": null,
      "outputs": [
        {
          "output_type": "stream",
          "name": "stdout",
          "text": [
            "P\n",
            "n\n",
            "n\n",
            "P\n"
          ]
        }
      ]
    },
    {
      "cell_type": "code",
      "source": [
        "print(word[0:3])\n",
        "print(word[:4])\n",
        "print(word[3:])\n",
        "print(word[-5:])"
      ],
      "metadata": {
        "colab": {
          "base_uri": "https://localhost:8080/"
        },
        "id": "ntuNpeRPnbsa",
        "outputId": "900b42fd-dffe-44de-e7b9-2cbda1a9ca8a"
      },
      "execution_count": null,
      "outputs": [
        {
          "output_type": "stream",
          "name": "stdout",
          "text": [
            "Pyt\n",
            "Pyth\n",
            "hon\n",
            "ython\n"
          ]
        }
      ]
    },
    {
      "cell_type": "code",
      "source": [
        "print(word[2:]+word[0:2])"
      ],
      "metadata": {
        "colab": {
          "base_uri": "https://localhost:8080/"
        },
        "id": "4UHjjMU8n0e3",
        "outputId": "10d0d0b2-4aeb-4d71-ca00-b7c05fa332da"
      },
      "execution_count": null,
      "outputs": [
        {
          "output_type": "stream",
          "name": "stdout",
          "text": [
            "thonPy\n"
          ]
        }
      ]
    },
    {
      "cell_type": "code",
      "source": [
        "# Strings are immutable\n",
        "# Convert 'Python' into 'Jython'\n",
        "word = 'Python'\n",
        "word[0] = 'J'\n",
        "print(word)"
      ],
      "metadata": {
        "colab": {
          "base_uri": "https://localhost:8080/",
          "height": 193
        },
        "id": "VzO5IURmok9R",
        "outputId": "ab9f49da-e585-4fc9-dd33-478421d8aee8"
      },
      "execution_count": null,
      "outputs": [
        {
          "output_type": "error",
          "ename": "TypeError",
          "evalue": "'str' object does not support item assignment",
          "traceback": [
            "\u001b[0;31m---------------------------------------------------------------------------\u001b[0m",
            "\u001b[0;31mTypeError\u001b[0m                                 Traceback (most recent call last)",
            "\u001b[0;32m<ipython-input-2-14aa9c0c23c8>\u001b[0m in \u001b[0;36m<cell line: 4>\u001b[0;34m()\u001b[0m\n\u001b[1;32m      2\u001b[0m \u001b[0;31m# Convert 'Python' into 'Jython'\u001b[0m\u001b[0;34m\u001b[0m\u001b[0;34m\u001b[0m\u001b[0m\n\u001b[1;32m      3\u001b[0m \u001b[0mword\u001b[0m \u001b[0;34m=\u001b[0m \u001b[0;34m'Python'\u001b[0m\u001b[0;34m\u001b[0m\u001b[0;34m\u001b[0m\u001b[0m\n\u001b[0;32m----> 4\u001b[0;31m \u001b[0mword\u001b[0m\u001b[0;34m[\u001b[0m\u001b[0;36m0\u001b[0m\u001b[0;34m]\u001b[0m \u001b[0;34m=\u001b[0m \u001b[0;34m'J'\u001b[0m\u001b[0;34m\u001b[0m\u001b[0;34m\u001b[0m\u001b[0m\n\u001b[0m\u001b[1;32m      5\u001b[0m \u001b[0mprint\u001b[0m\u001b[0;34m(\u001b[0m\u001b[0mword\u001b[0m\u001b[0;34m)\u001b[0m\u001b[0;34m\u001b[0m\u001b[0;34m\u001b[0m\u001b[0m\n",
            "\u001b[0;31mTypeError\u001b[0m: 'str' object does not support item assignment"
          ]
        }
      ]
    },
    {
      "cell_type": "code",
      "source": [
        "word = 'Python'\n",
        "word = 'J' + word[1:]\n",
        "print(word)"
      ],
      "metadata": {
        "id": "dlIAcr7FpfXg",
        "colab": {
          "base_uri": "https://localhost:8080/"
        },
        "outputId": "f139fed8-8733-4922-f974-91b95c212220"
      },
      "execution_count": null,
      "outputs": [
        {
          "output_type": "stream",
          "name": "stdout",
          "text": [
            "Jython\n"
          ]
        }
      ]
    },
    {
      "cell_type": "code",
      "source": [
        "# String formatting\n",
        "name = 'Zohaib'\n",
        "age = 40\n",
        "print(\"The name is {}, and the age is {}\".format(name, age))\n",
        "print(f'The name is {name}, and the age is {age}')"
      ],
      "metadata": {
        "id": "8A1nI_Tepksv",
        "colab": {
          "base_uri": "https://localhost:8080/"
        },
        "outputId": "a51fe515-4e3b-4d8b-ce42-ab73a031ae23"
      },
      "execution_count": null,
      "outputs": [
        {
          "output_type": "stream",
          "name": "stdout",
          "text": [
            "The name is Zohaib, and the age is 40\n",
            "The name is Zohaib, and the age is 40\n"
          ]
        }
      ]
    },
    {
      "cell_type": "markdown",
      "source": [
        "## List"
      ],
      "metadata": {
        "id": "tCDsg5WI3mrQ"
      }
    },
    {
      "cell_type": "markdown",
      "source": [
        "### General Introduction"
      ],
      "metadata": {
        "id": "7aNvreFCskdd"
      }
    },
    {
      "cell_type": "code",
      "source": [
        "squares = [1,4,9,16,25]\n",
        "print(squares)"
      ],
      "metadata": {
        "colab": {
          "base_uri": "https://localhost:8080/"
        },
        "id": "H3J1_R3d3oFe",
        "outputId": "e45413f1-62aa-49f8-b801-962f742abfa0"
      },
      "execution_count": null,
      "outputs": [
        {
          "output_type": "stream",
          "name": "stdout",
          "text": [
            "[1, 4, 9, 16, 25]\n"
          ]
        }
      ]
    },
    {
      "cell_type": "code",
      "source": [
        "# List support concatenation\n",
        "\n",
        "squares + [10,20,30,40,50]"
      ],
      "metadata": {
        "colab": {
          "base_uri": "https://localhost:8080/"
        },
        "id": "yAn2m8mm42j9",
        "outputId": "f802dde5-7fef-4d62-d846-f87dd0b2d4a7"
      },
      "execution_count": null,
      "outputs": [
        {
          "output_type": "execute_result",
          "data": {
            "text/plain": [
              "[1, 4, 66, 16, 25, 100, 10, 20, 30, 40, 50]"
            ]
          },
          "metadata": {},
          "execution_count": 71
        }
      ]
    },
    {
      "cell_type": "code",
      "source": [
        "# lists are mutable\n",
        "squares[2] = 66\n",
        "print(squares)"
      ],
      "metadata": {
        "colab": {
          "base_uri": "https://localhost:8080/"
        },
        "id": "S9XCQFDi5GWd",
        "outputId": "9d8eda9d-e837-41aa-9daf-ee24bab4efbf"
      },
      "execution_count": null,
      "outputs": [
        {
          "output_type": "stream",
          "name": "stdout",
          "text": [
            "[1, 4, 66, 16, 25, 100]\n"
          ]
        }
      ]
    },
    {
      "cell_type": "code",
      "source": [
        "nums = squares\n",
        "print(nums)"
      ],
      "metadata": {
        "colab": {
          "base_uri": "https://localhost:8080/"
        },
        "id": "GcwIiiLu8Q49",
        "outputId": "c8db8b8a-06d6-4cee-dd4a-7d682901edcb"
      },
      "execution_count": null,
      "outputs": [
        {
          "output_type": "stream",
          "name": "stdout",
          "text": [
            "[1, 4, 66, 16, 25, 100]\n"
          ]
        }
      ]
    },
    {
      "cell_type": "code",
      "source": [
        "nums == squares"
      ],
      "metadata": {
        "colab": {
          "base_uri": "https://localhost:8080/"
        },
        "id": "3n6ctDf_-nTK",
        "outputId": "cbebef70-791d-42d9-9547-4eb65b471b90"
      },
      "execution_count": null,
      "outputs": [
        {
          "output_type": "execute_result",
          "data": {
            "text/plain": [
              "True"
            ]
          },
          "metadata": {},
          "execution_count": 73
        }
      ]
    },
    {
      "cell_type": "code",
      "source": [
        "num = [1,2,3,4,5]\n",
        "print(num)\n",
        "num1,num2 = num[:-3],num[-3:]\n",
        "print(num1)\n",
        "print(num2)"
      ],
      "metadata": {
        "colab": {
          "base_uri": "https://localhost:8080/"
        },
        "id": "IuuNeV5JlNpm",
        "outputId": "863d34b9-4328-4d22-d5cc-819cdd6532a8"
      },
      "execution_count": null,
      "outputs": [
        {
          "output_type": "stream",
          "name": "stdout",
          "text": [
            "[1, 2, 3, 4, 5]\n",
            "[1, 2]\n",
            "[3, 4, 5]\n"
          ]
        }
      ]
    },
    {
      "cell_type": "markdown",
      "source": [
        "### Slicing"
      ],
      "metadata": {
        "id": "bIgFKJlAtQk4"
      }
    },
    {
      "cell_type": "code",
      "source": [
        "# All slice operations results in shallow copy\n",
        "new_sq = squares[:]"
      ],
      "metadata": {
        "id": "r3HIGikH-7qP"
      },
      "execution_count": null,
      "outputs": []
    },
    {
      "cell_type": "code",
      "source": [
        "new_sq[-1] = 0"
      ],
      "metadata": {
        "id": "CMEMwmEYBZSs"
      },
      "execution_count": null,
      "outputs": []
    },
    {
      "cell_type": "code",
      "source": [
        "new_sq == squares"
      ],
      "metadata": {
        "colab": {
          "base_uri": "https://localhost:8080/"
        },
        "id": "-_oOMYTZBjTu",
        "outputId": "08b1c1f3-dd29-4053-8ba7-018fc523d65c"
      },
      "execution_count": null,
      "outputs": [
        {
          "output_type": "execute_result",
          "data": {
            "text/plain": [
              "False"
            ]
          },
          "metadata": {},
          "execution_count": 78
        }
      ]
    },
    {
      "cell_type": "code",
      "source": [
        "print(new_sq)\n",
        "print(squares)"
      ],
      "metadata": {
        "colab": {
          "base_uri": "https://localhost:8080/"
        },
        "id": "0n1NxlxDBmyT",
        "outputId": "0a101626-5954-40e5-ecd8-2228208ad0ed"
      },
      "execution_count": null,
      "outputs": [
        {
          "output_type": "stream",
          "name": "stdout",
          "text": [
            "[4, 66, 16, 25, 0]\n",
            "[4, 66, 16, 25, 100]\n"
          ]
        }
      ]
    },
    {
      "cell_type": "code",
      "source": [
        "# Assignment to Slices\n",
        "alpha = ['a','b','c','d','e','f','g','h']\n",
        "alpha[0:2] = ['A','B']\n",
        "print(alpha)"
      ],
      "metadata": {
        "colab": {
          "base_uri": "https://localhost:8080/"
        },
        "id": "32aU8y9HBsjE",
        "outputId": "99d3dfd8-e559-4774-de2d-5f0d9c08fffd"
      },
      "execution_count": null,
      "outputs": [
        {
          "output_type": "stream",
          "name": "stdout",
          "text": [
            "['A', 'B', 'c', 'd', 'e', 'f', 'g', 'h']\n"
          ]
        }
      ]
    },
    {
      "cell_type": "code",
      "source": [
        "alpha[0:2] = []\n",
        "print(alpha)"
      ],
      "metadata": {
        "colab": {
          "base_uri": "https://localhost:8080/"
        },
        "id": "7K87d8T5CyhC",
        "outputId": "700b9a38-9260-4e4f-92bf-46281592797d"
      },
      "execution_count": null,
      "outputs": [
        {
          "output_type": "stream",
          "name": "stdout",
          "text": [
            "['c', 'd', 'e', 'f', 'g', 'h']\n"
          ]
        }
      ]
    },
    {
      "cell_type": "code",
      "source": [
        "alpha[:] = []\n",
        "print(alpha)"
      ],
      "metadata": {
        "colab": {
          "base_uri": "https://localhost:8080/"
        },
        "id": "nw4K2lMkDkO4",
        "outputId": "33c4b36a-6825-44c7-b8c9-340cfd06ccaf"
      },
      "execution_count": null,
      "outputs": [
        {
          "output_type": "stream",
          "name": "stdout",
          "text": [
            "[]\n"
          ]
        }
      ]
    },
    {
      "cell_type": "markdown",
      "source": [
        "### List functions"
      ],
      "metadata": {
        "id": "cihcjHyotbap"
      }
    },
    {
      "cell_type": "code",
      "source": [
        "my_list = [1,2,3,4,5]\n",
        "print(*my_list, sep='-')"
      ],
      "metadata": {
        "colab": {
          "base_uri": "https://localhost:8080/"
        },
        "id": "5qWQ6c_1IhuJ",
        "outputId": "c25f341a-a458-4620-8a4f-6de2576f6431"
      },
      "execution_count": null,
      "outputs": [
        {
          "output_type": "stream",
          "name": "stdout",
          "text": [
            "1-2-3-4-5\n"
          ]
        }
      ]
    },
    {
      "cell_type": "code",
      "source": [
        "# Modify List\n",
        "courses = ['ada', 'ds', 'oopm', 'cn']\n",
        "print(courses.pop())\n",
        "print(courses)\n",
        "courses.append('cn')\n",
        "print(courses)\n",
        "courses.remove('ada')\n",
        "print(courses)\n",
        "courses.insert(0,'ada')\n",
        "print(courses)\n",
        "new_courses = ['os', 'se']\n",
        "courses.insert(0, new_courses)\n",
        "print(courses)\n",
        "print(courses.pop(0))\n",
        "print(courses)"
      ],
      "metadata": {
        "colab": {
          "base_uri": "https://localhost:8080/"
        },
        "id": "uAm12hrteYh8",
        "outputId": "bc2e66c0-abca-47b2-c43f-29c77f99b2e5"
      },
      "execution_count": null,
      "outputs": [
        {
          "output_type": "stream",
          "name": "stdout",
          "text": [
            "cn\n",
            "['ada', 'ds', 'oopm']\n",
            "['ada', 'ds', 'oopm', 'cn']\n",
            "['ds', 'oopm', 'cn']\n",
            "['ada', 'ds', 'oopm', 'cn']\n",
            "[['os', 'se'], 'ada', 'ds', 'oopm', 'cn']\n",
            "['os', 'se']\n",
            "['ada', 'ds', 'oopm', 'cn']\n"
          ]
        }
      ]
    },
    {
      "cell_type": "code",
      "source": [
        "# aggregation\n",
        "my_list = [1,2,3,4,5]\n",
        "your_list = [1,2,1]\n",
        "my_list.extend(your_list)\n",
        "print(my_list)\n",
        "print(sum(my_list))\n",
        "print(my_list.count(1))"
      ],
      "metadata": {
        "colab": {
          "base_uri": "https://localhost:8080/"
        },
        "id": "DqyRUeoce4ee",
        "outputId": "e4a83296-8f9e-4d2c-dbff-c107ba99b4d6"
      },
      "execution_count": null,
      "outputs": [
        {
          "output_type": "stream",
          "name": "stdout",
          "text": [
            "[1, 2, 3, 4, 5, 1, 2, 1]\n",
            "19\n",
            "3\n"
          ]
        }
      ]
    },
    {
      "cell_type": "code",
      "source": [
        "# Find element in the list\n",
        "print(my_list.index(2))\n",
        "print(my_list.index(1,3,10)) # list.index(element, start, end) throws exception if an element is not found\n",
        "\n",
        "print(2 in my_list)\n",
        "print(10 not in my_list)"
      ],
      "metadata": {
        "colab": {
          "base_uri": "https://localhost:8080/"
        },
        "id": "6colX_66irxR",
        "outputId": "948f8272-feba-4a9b-c88c-da76e63e351b"
      },
      "execution_count": null,
      "outputs": [
        {
          "output_type": "stream",
          "name": "stdout",
          "text": [
            "1\n",
            "5\n",
            "True\n",
            "True\n"
          ]
        }
      ]
    },
    {
      "cell_type": "code",
      "source": [
        "nums = [21,45,78,12,56]\n",
        "print(min(nums))\n",
        "print(max(nums))\n",
        "\n",
        "nums.sort()\n",
        "print(nums)\n",
        "nums.sort(reverse=True)\n",
        "print(nums)"
      ],
      "metadata": {
        "colab": {
          "base_uri": "https://localhost:8080/"
        },
        "id": "rLrwlBGijPlz",
        "outputId": "0951670d-df1b-420a-cfc1-7a95c477583a"
      },
      "execution_count": null,
      "outputs": [
        {
          "output_type": "stream",
          "name": "stdout",
          "text": [
            "12\n",
            "78\n",
            "[12, 21, 45, 56, 78]\n",
            "[78, 56, 45, 21, 12]\n"
          ]
        }
      ]
    },
    {
      "cell_type": "code",
      "source": [
        "nums = [21,45,78,12,56]\n",
        "sorted_nums = sorted(nums)\n",
        "print(nums)\n",
        "print(sorted_nums)"
      ],
      "metadata": {
        "colab": {
          "base_uri": "https://localhost:8080/"
        },
        "id": "qHh4jw1UoEfs",
        "outputId": "a29a83b8-bb00-4247-bd75-1838e4e1cacb"
      },
      "execution_count": null,
      "outputs": [
        {
          "output_type": "stream",
          "name": "stdout",
          "text": [
            "[21, 45, 78, 12, 56]\n",
            "[12, 21, 45, 56, 78]\n"
          ]
        }
      ]
    },
    {
      "cell_type": "code",
      "source": [
        "nums = [21,45,78,12,56]\n",
        "nums.reverse()\n",
        "print(nums)"
      ],
      "metadata": {
        "colab": {
          "base_uri": "https://localhost:8080/"
        },
        "id": "LjsGH4zaocuv",
        "outputId": "3f442c20-ee5f-42db-f78b-0416fec69ef1"
      },
      "execution_count": null,
      "outputs": [
        {
          "output_type": "stream",
          "name": "stdout",
          "text": [
            "[56, 12, 78, 45, 21]\n"
          ]
        }
      ]
    },
    {
      "cell_type": "code",
      "source": [
        "nums = [21,45,78,12,56]\n",
        "del nums[0]\n",
        "print(nums)"
      ],
      "metadata": {
        "colab": {
          "base_uri": "https://localhost:8080/"
        },
        "id": "Ft_dNcAqvQJc",
        "outputId": "c935bc29-b03e-4de6-dfd6-59ee8987096b"
      },
      "execution_count": null,
      "outputs": [
        {
          "output_type": "stream",
          "name": "stdout",
          "text": [
            "[45, 78, 12, 56]\n"
          ]
        }
      ]
    },
    {
      "cell_type": "markdown",
      "source": [
        "### Loop through List"
      ],
      "metadata": {
        "id": "c9r---jc_HLj"
      }
    },
    {
      "cell_type": "code",
      "source": [
        "fruits = ['apple', 'orange', 'peach', 'kiwi', 'banana']\n",
        "for fruit in fruits:\n",
        "  print(fruit)"
      ],
      "metadata": {
        "colab": {
          "base_uri": "https://localhost:8080/"
        },
        "id": "b0RcWH70_GMH",
        "outputId": "f777388c-7f9f-471e-9807-740919426a4d"
      },
      "execution_count": null,
      "outputs": [
        {
          "output_type": "stream",
          "name": "stdout",
          "text": [
            "apple\n",
            "orange\n",
            "peach\n",
            "kiwi\n",
            "banana\n"
          ]
        }
      ]
    },
    {
      "cell_type": "code",
      "source": [
        "for i in range(len(fruits)):\n",
        "  print(fruits[i])"
      ],
      "metadata": {
        "colab": {
          "base_uri": "https://localhost:8080/"
        },
        "id": "SGPiEvdC_sV3",
        "outputId": "0a6a0515-5f9e-4d2c-c8a0-80d7f69bae8c"
      },
      "execution_count": null,
      "outputs": [
        {
          "output_type": "stream",
          "name": "stdout",
          "text": [
            "apple\n",
            "orange\n",
            "peach\n",
            "kiwi\n",
            "banana\n"
          ]
        }
      ]
    },
    {
      "cell_type": "code",
      "source": [
        "fruit_str = ','.join(fruits)\n",
        "print(fruit_str)\n",
        "\n",
        "new_fruits = fruit_str.split(',')\n",
        "print(new_fruits)"
      ],
      "metadata": {
        "colab": {
          "base_uri": "https://localhost:8080/"
        },
        "id": "aRPpTpM8FGFw",
        "outputId": "639ac43f-3e77-4655-8c9d-38beab086b22"
      },
      "execution_count": null,
      "outputs": [
        {
          "output_type": "stream",
          "name": "stdout",
          "text": [
            "apple,orange,peach,kiwi,banana\n",
            "['apple', 'orange', 'peach', 'kiwi', 'banana']\n"
          ]
        }
      ]
    },
    {
      "cell_type": "code",
      "source": [
        "r = 3\n",
        "c = 4\n",
        "num = [[0]*c]*r\n",
        "print(num)"
      ],
      "metadata": {
        "colab": {
          "base_uri": "https://localhost:8080/"
        },
        "id": "8l1AcR-rdpCC",
        "outputId": "dbed76bf-feda-4fd7-8cf5-81e0f599d2b4"
      },
      "execution_count": null,
      "outputs": [
        {
          "output_type": "stream",
          "name": "stdout",
          "text": [
            "[[0, 0, 0, 0], [0, 0, 0, 0], [0, 0, 0, 0]]\n"
          ]
        }
      ]
    },
    {
      "cell_type": "code",
      "source": [
        "#List unpacking\n",
        "nums = [12,23,45,67,89]\n",
        "first, *middle, last = nums\n",
        "print(first)\n",
        "print(middle)\n",
        "print(last)"
      ],
      "metadata": {
        "colab": {
          "base_uri": "https://localhost:8080/"
        },
        "id": "sC5QG6-Wg5AM",
        "outputId": "0bd0f7ae-f46e-4e39-ec5c-82851c4ee6f7"
      },
      "execution_count": null,
      "outputs": [
        {
          "output_type": "stream",
          "name": "stdout",
          "text": [
            "12\n",
            "[23, 45, 67]\n",
            "89\n"
          ]
        }
      ]
    },
    {
      "cell_type": "code",
      "source": [
        "nums = [1,2,3,4]\n",
        "print(*nums, sep = '/')"
      ],
      "metadata": {
        "colab": {
          "base_uri": "https://localhost:8080/"
        },
        "id": "-zp6MuxGhSMH",
        "outputId": "ee5ae4e3-88cb-4178-ac0f-8c3c83669817"
      },
      "execution_count": null,
      "outputs": [
        {
          "output_type": "stream",
          "name": "stdout",
          "text": [
            "1/2/3/4\n"
          ]
        }
      ]
    },
    {
      "cell_type": "markdown",
      "source": [
        "## Tuples"
      ],
      "metadata": {
        "id": "NoR0wBnsF7Gr"
      }
    },
    {
      "cell_type": "code",
      "source": [
        "bikes = ('pulsar',[125,150,200],'duke',[290,390],'shine',[100,125,150])\n",
        "print(bikes[0])\n",
        "print(bikes[1])"
      ],
      "metadata": {
        "colab": {
          "base_uri": "https://localhost:8080/"
        },
        "id": "8pCLtOeCF-KF",
        "outputId": "d2a73fa0-cb2e-4f4d-d1d0-531ea30ce16c"
      },
      "execution_count": null,
      "outputs": [
        {
          "output_type": "stream",
          "name": "stdout",
          "text": [
            "pulsar\n",
            "[125, 150, 200]\n"
          ]
        }
      ]
    },
    {
      "cell_type": "code",
      "source": [
        "bikes[0] = 'passion'"
      ],
      "metadata": {
        "colab": {
          "base_uri": "https://localhost:8080/",
          "height": 141
        },
        "id": "QFq-Dp0gH6cT",
        "outputId": "6f95b496-22fe-4d7c-ff72-fb747839b3e8"
      },
      "execution_count": null,
      "outputs": [
        {
          "output_type": "error",
          "ename": "TypeError",
          "evalue": "'tuple' object does not support item assignment",
          "traceback": [
            "\u001b[0;31m---------------------------------------------------------------------------\u001b[0m",
            "\u001b[0;31mTypeError\u001b[0m                                 Traceback (most recent call last)",
            "\u001b[0;32m<ipython-input-91-738cd8bac72d>\u001b[0m in \u001b[0;36m<cell line: 1>\u001b[0;34m()\u001b[0m\n\u001b[0;32m----> 1\u001b[0;31m \u001b[0mbikes\u001b[0m\u001b[0;34m[\u001b[0m\u001b[0;36m0\u001b[0m\u001b[0;34m]\u001b[0m \u001b[0;34m=\u001b[0m \u001b[0;34m'passion'\u001b[0m\u001b[0;34m\u001b[0m\u001b[0;34m\u001b[0m\u001b[0m\n\u001b[0m",
            "\u001b[0;31mTypeError\u001b[0m: 'tuple' object does not support item assignment"
          ]
        }
      ]
    },
    {
      "cell_type": "code",
      "source": [
        "bikes[:1]"
      ],
      "metadata": {
        "colab": {
          "base_uri": "https://localhost:8080/"
        },
        "id": "_yHd3w4nILWl",
        "outputId": "70d87e2b-f9b0-427a-c075-4bd3ff2ca9c3"
      },
      "execution_count": null,
      "outputs": [
        {
          "output_type": "execute_result",
          "data": {
            "text/plain": [
              "('pulsar',)"
            ]
          },
          "metadata": {},
          "execution_count": 96
        }
      ]
    },
    {
      "cell_type": "code",
      "source": [
        "# Single element tuple\n",
        "my_tup = (1)\n",
        "print(type(my_tup))"
      ],
      "metadata": {
        "colab": {
          "base_uri": "https://localhost:8080/"
        },
        "id": "exsX1X8lIXj_",
        "outputId": "7c7e9971-2727-4360-d92c-c2b3c577941c"
      },
      "execution_count": null,
      "outputs": [
        {
          "output_type": "stream",
          "name": "stdout",
          "text": [
            "<class 'int'>\n"
          ]
        }
      ]
    },
    {
      "cell_type": "code",
      "source": [
        "my_tup = 1,\n",
        "your_tup = (1,)"
      ],
      "metadata": {
        "id": "ck1V4yEmIrOM"
      },
      "execution_count": null,
      "outputs": []
    },
    {
      "cell_type": "code",
      "source": [
        "print(type(my_tup), ' ', type(your_tup))"
      ],
      "metadata": {
        "colab": {
          "base_uri": "https://localhost:8080/"
        },
        "id": "oplg9XU-QMX3",
        "outputId": "35de3a6d-8139-47af-f1e8-8c4a57f4ae7b"
      },
      "execution_count": null,
      "outputs": [
        {
          "output_type": "stream",
          "name": "stdout",
          "text": [
            "<class 'tuple'>   <class 'tuple'>\n"
          ]
        }
      ]
    },
    {
      "cell_type": "markdown",
      "source": [
        "# Dictionary\n",
        "\n",
        "1.   Declaration\n",
        "2.   Access\n",
        "3.   Update\n",
        "\n",
        "## Built in dictionary methods\n",
        "1.  d.clear()\n",
        "2.  d.get(\\<key\\>[, \\<default\\>])\n",
        "3.  d.items()\n",
        "4.  d.keys()\n",
        "5.  d.values()\n",
        "6.  d.pop(\\<key\\>[, \\<default\\>]) *(pop a specific along with its value)*\n",
        "7.  d.popitem() *(removes last added key,value pair)*\n",
        "8.  d.update(\\<obj\\>) *(merges two dictionaries, overwrites duplicate keys)*"
      ],
      "metadata": {
        "id": "9PrSo5UG5gXL"
      }
    },
    {
      "cell_type": "code",
      "source": [
        "d = {'key1':'value','key2':'value2'}\n",
        "print(d['key1'])"
      ],
      "metadata": {
        "colab": {
          "base_uri": "https://localhost:8080/"
        },
        "id": "Q8oG4swu5j_A",
        "outputId": "8bb1b4c2-d4df-4d4b-8d83-6b6eef3b4c9a"
      },
      "execution_count": null,
      "outputs": [
        {
          "output_type": "stream",
          "name": "stdout",
          "text": [
            "value\n"
          ]
        }
      ]
    },
    {
      "cell_type": "code",
      "source": [
        "#Building a dictionary incrementally\n",
        "person = {}\n",
        "person['fname'] = 'John'\n",
        "person['lname'] = 'Wick'\n",
        "person['pet'] = 'Dog'\n",
        "person['weapons'] = ['gun', 'knife', 'pencil', 'effectively anything']\n",
        "print(person['weapons'][-1])"
      ],
      "metadata": {
        "colab": {
          "base_uri": "https://localhost:8080/"
        },
        "id": "A7DImHnK-jH-",
        "outputId": "7a381a11-6ee8-4950-88ea-cf62650af6e5"
      },
      "execution_count": null,
      "outputs": [
        {
          "output_type": "stream",
          "name": "stdout",
          "text": [
            "effectively anything\n"
          ]
        }
      ]
    },
    {
      "cell_type": "code",
      "source": [
        "fruits = {1:'apple',2:'grapes',3:'banana'}\n",
        "for key, value in fruits.items():\n",
        "  print(key,\":\",value)"
      ],
      "metadata": {
        "colab": {
          "base_uri": "https://localhost:8080/"
        },
        "id": "6sDjtjNb79t5",
        "outputId": "a97ca6bb-5da1-4563-98cc-42ba41d5b28d"
      },
      "execution_count": null,
      "outputs": [
        {
          "output_type": "stream",
          "name": "stdout",
          "text": [
            "1 : apple\n",
            "2 : grapes\n",
            "3 : banana\n"
          ]
        }
      ]
    },
    {
      "cell_type": "code",
      "source": [
        "for i in fruits.values():\n",
        "  print(i)"
      ],
      "metadata": {
        "colab": {
          "base_uri": "https://localhost:8080/"
        },
        "id": "K9UP0_3R8LuI",
        "outputId": "51b050fe-33d5-4a90-fa37-ab97ef5d69a3"
      },
      "execution_count": null,
      "outputs": [
        {
          "output_type": "stream",
          "name": "stdout",
          "text": [
            "apple\n",
            "grapes\n",
            "banana\n"
          ]
        }
      ]
    },
    {
      "cell_type": "code",
      "source": [
        "for i in fruits.keys():\n",
        "  print(i)"
      ],
      "metadata": {
        "colab": {
          "base_uri": "https://localhost:8080/"
        },
        "id": "wmuT8Ipq8Xz5",
        "outputId": "703a256b-cfe7-4525-b485-f26b355f724f"
      },
      "execution_count": null,
      "outputs": [
        {
          "output_type": "stream",
          "name": "stdout",
          "text": [
            "1\n",
            "2\n",
            "3\n"
          ]
        }
      ]
    },
    {
      "cell_type": "code",
      "source": [
        "d = {'k1':{'innerkey':[1, 2, 3]}}\n",
        "print(d['k1']['innerkey'][1])"
      ],
      "metadata": {
        "id": "VFPmS_qO8b3-",
        "colab": {
          "base_uri": "https://localhost:8080/"
        },
        "outputId": "b7fc090b-de2b-4a63-aad1-680df66b5774"
      },
      "execution_count": null,
      "outputs": [
        {
          "output_type": "stream",
          "name": "stdout",
          "text": [
            "2\n"
          ]
        }
      ]
    },
    {
      "cell_type": "code",
      "source": [
        "fruits = {1:'apple',2:'grapes',3:'banana'}\n",
        "print(fruits)\n",
        "\n",
        "fruits.popitem()\n",
        "\n",
        "print(fruits)"
      ],
      "metadata": {
        "colab": {
          "base_uri": "https://localhost:8080/"
        },
        "id": "UdQ0c4_D3Dwk",
        "outputId": "c16e5131-5415-4394-d84c-7859298efb19"
      },
      "execution_count": null,
      "outputs": [
        {
          "output_type": "stream",
          "name": "stdout",
          "text": [
            "{1: 'apple', 2: 'grapes', 3: 'banana'}\n",
            "{1: 'apple', 2: 'grapes'}\n"
          ]
        }
      ]
    },
    {
      "cell_type": "code",
      "source": [
        "fruits = {1:'apple',2:'grapes',3:'banana'}\n",
        "exotic_fruits = {3:'avocado', 4:'kiwi', 5:'dragonfruit'}\n",
        "fruits.update(exotic_fruits)\n",
        "print(fruits)"
      ],
      "metadata": {
        "colab": {
          "base_uri": "https://localhost:8080/"
        },
        "id": "cihXcmGF3NZI",
        "outputId": "e01b8f6a-780c-4bec-a54d-04d07729d94d"
      },
      "execution_count": null,
      "outputs": [
        {
          "output_type": "stream",
          "name": "stdout",
          "text": [
            "{1: 'apple', 2: 'grapes', 3: 'avocado', 4: 'kiwi', 5: 'dragonfruit'}\n"
          ]
        }
      ]
    },
    {
      "cell_type": "markdown",
      "source": [
        "# Sets"
      ],
      "metadata": {
        "id": "16hH4WsS48oS"
      }
    },
    {
      "cell_type": "code",
      "source": [
        "a = {1,2,2,2,5,5,5,3,3,7,7}\n",
        "print(a)"
      ],
      "metadata": {
        "colab": {
          "base_uri": "https://localhost:8080/"
        },
        "id": "ezGgDtiI5AXz",
        "outputId": "a90b8844-67a5-471a-f4ca-a428a416221b"
      },
      "execution_count": null,
      "outputs": [
        {
          "output_type": "stream",
          "name": "stdout",
          "text": [
            "{1, 2, 3, 5, 7}\n"
          ]
        }
      ]
    },
    {
      "cell_type": "code",
      "source": [
        "b = set([4,5,5,5,2,2,3])\n",
        "print(b)"
      ],
      "metadata": {
        "colab": {
          "base_uri": "https://localhost:8080/"
        },
        "id": "IByqb0aD5H6i",
        "outputId": "e95c67b4-828b-4481-dc13-30deb4f7e3af"
      },
      "execution_count": null,
      "outputs": [
        {
          "output_type": "stream",
          "name": "stdout",
          "text": [
            "{2, 3, 4, 5}\n"
          ]
        }
      ]
    },
    {
      "cell_type": "code",
      "source": [
        "a = {5,6,7}\n",
        "a.add(2)\n",
        "print(a)\n"
      ],
      "metadata": {
        "colab": {
          "base_uri": "https://localhost:8080/"
        },
        "id": "4QeyZjJ55Q2o",
        "outputId": "1522f030-649c-4dc6-ff8f-88924b3f6b90"
      },
      "execution_count": null,
      "outputs": [
        {
          "output_type": "stream",
          "name": "stdout",
          "text": [
            "{2, 5, 6, 7}\n"
          ]
        }
      ]
    },
    {
      "cell_type": "code",
      "source": [
        "a = {1,2,3}\n",
        "b = {3,4,5,6}\n",
        "a.update(b)\n",
        "print(a)"
      ],
      "metadata": {
        "colab": {
          "base_uri": "https://localhost:8080/"
        },
        "id": "Z7a1YoMv5dtF",
        "outputId": "0216b178-3572-4ae0-8bb7-adace48d63b6"
      },
      "execution_count": null,
      "outputs": [
        {
          "output_type": "stream",
          "name": "stdout",
          "text": [
            "{1, 2, 3, 4, 5, 6}\n"
          ]
        }
      ]
    },
    {
      "cell_type": "code",
      "source": [
        "a = {1,2,3,4}\n",
        "a.remove(1)\n",
        "print(a)\n",
        "a.discard(3)\n",
        "print(a)"
      ],
      "metadata": {
        "colab": {
          "base_uri": "https://localhost:8080/"
        },
        "id": "aKpJMI1tEctE",
        "outputId": "03cd2a20-201d-410d-d45f-093ca2c144b4"
      },
      "execution_count": null,
      "outputs": [
        {
          "output_type": "stream",
          "name": "stdout",
          "text": [
            "{2, 3, 4}\n",
            "{2, 4}\n"
          ]
        }
      ]
    },
    {
      "cell_type": "code",
      "source": [
        "a = {1,2,3,4}\n",
        "b = {3,4,5,6}\n",
        "print(a.union(b))"
      ],
      "metadata": {
        "colab": {
          "base_uri": "https://localhost:8080/"
        },
        "id": "2flwdYi8EkBA",
        "outputId": "c7d0a9bc-53ba-4a9b-d71e-c5ecb06fa6f5"
      },
      "execution_count": null,
      "outputs": [
        {
          "output_type": "stream",
          "name": "stdout",
          "text": [
            "{1, 2, 3, 4, 5, 6}\n"
          ]
        }
      ]
    },
    {
      "cell_type": "code",
      "source": [
        "a = {1,2,3,4}\n",
        "b = {3,4,5,6}\n",
        "print(a.intersection(b))"
      ],
      "metadata": {
        "colab": {
          "base_uri": "https://localhost:8080/"
        },
        "id": "-66KD8LpExBk",
        "outputId": "13242a1f-d4c0-48a1-9580-9ae895e74795"
      },
      "execution_count": null,
      "outputs": [
        {
          "output_type": "stream",
          "name": "stdout",
          "text": [
            "{3, 4}\n"
          ]
        }
      ]
    },
    {
      "cell_type": "code",
      "source": [
        "a = {1,2,3,4}\n",
        "b = {3,4,5,6}\n",
        "print(a.difference(b))"
      ],
      "metadata": {
        "colab": {
          "base_uri": "https://localhost:8080/"
        },
        "id": "aAMsMdTkFIvL",
        "outputId": "12e85ae2-c5ac-4fbd-db9a-42c9619e9b32"
      },
      "execution_count": null,
      "outputs": [
        {
          "output_type": "stream",
          "name": "stdout",
          "text": [
            "{1, 2}\n"
          ]
        }
      ]
    },
    {
      "cell_type": "code",
      "source": [
        "a = {1,2,3,4}\n",
        "b = {3,4,5,6}\n",
        "print(a.symmetric_difference(b))"
      ],
      "metadata": {
        "colab": {
          "base_uri": "https://localhost:8080/"
        },
        "id": "Mk7p-ILWGej8",
        "outputId": "658dea58-6bdc-4916-8d43-c29ef2493ca9"
      },
      "execution_count": null,
      "outputs": [
        {
          "output_type": "stream",
          "name": "stdout",
          "text": [
            "{1, 2, 5, 6}\n"
          ]
        }
      ]
    },
    {
      "cell_type": "markdown",
      "source": [
        "# Functions in Python\n",
        "## Introduction"
      ],
      "metadata": {
        "id": "XXlZsUoz8wjc"
      }
    },
    {
      "cell_type": "code",
      "source": [
        "def f():\n",
        "  s = \"Inside f\"\n",
        "  print(s)\n",
        "\n",
        "f()"
      ],
      "metadata": {
        "colab": {
          "base_uri": "https://localhost:8080/"
        },
        "id": "uL9D6HVl8zSh",
        "outputId": "dcc6d191-485e-40ba-cdd2-102e7e13cd32"
      },
      "execution_count": null,
      "outputs": [
        {
          "output_type": "stream",
          "name": "stdout",
          "text": [
            "Inside f\n"
          ]
        }
      ]
    },
    {
      "cell_type": "markdown",
      "source": [
        "## Positional Arguments"
      ],
      "metadata": {
        "id": "uOA7LwniAN5j"
      }
    },
    {
      "cell_type": "code",
      "source": [
        "def calc(qty, item, price):\n",
        "  print(f'{qty} {item} costs Rs. {qty*price}/-')\n",
        "\n",
        "calc(2,'biscuits',15)"
      ],
      "metadata": {
        "colab": {
          "base_uri": "https://localhost:8080/"
        },
        "id": "s3268tNJ-Q3x",
        "outputId": "e6315133-c3f7-4407-a1be-2a5c73dd8024"
      },
      "execution_count": null,
      "outputs": [
        {
          "output_type": "stream",
          "name": "stdout",
          "text": [
            "2 biscuits costs Rs. 30/-\n"
          ]
        }
      ]
    },
    {
      "cell_type": "markdown",
      "source": [
        "## Keyword Arguments"
      ],
      "metadata": {
        "id": "ngKakyFrAgIL"
      }
    },
    {
      "cell_type": "code",
      "source": [
        "calc(item='biscuits',price=15,qty=2)"
      ],
      "metadata": {
        "colab": {
          "base_uri": "https://localhost:8080/"
        },
        "id": "ozSBppmUAij3",
        "outputId": "4a10b96c-98e4-4e36-d4db-6858e51ddffb"
      },
      "execution_count": null,
      "outputs": [
        {
          "output_type": "stream",
          "name": "stdout",
          "text": [
            "2 biscuits costs Rs. 30/-\n"
          ]
        }
      ]
    },
    {
      "cell_type": "markdown",
      "source": [
        "## Positional and Keyword Arguments\n",
        "Keyword argument must come after Positional arguments. Once you’ve specified a keyword argument, there can’t be any positional arguments to the right of it."
      ],
      "metadata": {
        "id": "_PXIiYpeBQtp"
      }
    },
    {
      "cell_type": "code",
      "source": [
        "calc(4, price = 2.3, item = 'banana')"
      ],
      "metadata": {
        "colab": {
          "base_uri": "https://localhost:8080/"
        },
        "id": "F_waWRrkBTqy",
        "outputId": "b63e503c-ceed-4bc9-fb61-26686fa5f23e"
      },
      "execution_count": null,
      "outputs": [
        {
          "output_type": "stream",
          "name": "stdout",
          "text": [
            "4 banana costs Rs. 9.2/-\n"
          ]
        }
      ]
    },
    {
      "cell_type": "markdown",
      "source": [
        "## Default (optional) parameters"
      ],
      "metadata": {
        "id": "P9tAANNiDwMb"
      }
    },
    {
      "cell_type": "code",
      "source": [
        "def calc(qty, item = 'products', price = 5):\n",
        "  print(f'{qty} {item} costs Rs.{qty*price}/-')\n",
        "\n",
        "calc(3)"
      ],
      "metadata": {
        "colab": {
          "base_uri": "https://localhost:8080/"
        },
        "id": "ILqiD7m4CwxU",
        "outputId": "5b80e20b-3fd0-402e-8fb6-61193a0d24b0"
      },
      "execution_count": null,
      "outputs": [
        {
          "output_type": "stream",
          "name": "stdout",
          "text": [
            "3 products costs Rs.15/-\n"
          ]
        }
      ]
    },
    {
      "cell_type": "markdown",
      "source": [
        "## Mutable default parameter\n",
        "**Default parameter values are defined only once**"
      ],
      "metadata": {
        "id": "1I5M69JFFx_E"
      }
    },
    {
      "cell_type": "code",
      "source": [
        "def fun(mylist = []):\n",
        "  mylist.append('*')\n",
        "  return mylist\n",
        "\n",
        "print(fun())\n",
        "print(fun())\n",
        "print(fun())"
      ],
      "metadata": {
        "colab": {
          "base_uri": "https://localhost:8080/"
        },
        "id": "7hmUhNjiF4kJ",
        "outputId": "5b120ea0-3623-4513-e38b-e270b0ca37b0"
      },
      "execution_count": null,
      "outputs": [
        {
          "output_type": "stream",
          "name": "stdout",
          "text": [
            "['*']\n",
            "['*', '*']\n",
            "['*', '*', '*']\n"
          ]
        }
      ]
    },
    {
      "cell_type": "markdown",
      "source": [
        "Demonstrate the fact using id()"
      ],
      "metadata": {
        "id": "F5hAQneEIos_"
      }
    },
    {
      "cell_type": "code",
      "source": [
        "def fun(mylist = []):\n",
        "  print(id(mylist))\n",
        "  mylist.append('*')\n",
        "  return mylist\n",
        "\n",
        "print(fun())\n",
        "print(fun())\n",
        "print(fun())"
      ],
      "metadata": {
        "colab": {
          "base_uri": "https://localhost:8080/"
        },
        "id": "D5ae_doCHW9Z",
        "outputId": "21230147-ab27-48ac-97b4-cba3f013b0ec"
      },
      "execution_count": null,
      "outputs": [
        {
          "output_type": "stream",
          "name": "stdout",
          "text": [
            "138183136448256\n",
            "['*']\n",
            "138183136448256\n",
            "['*', '*']\n",
            "138183136448256\n",
            "['*', '*', '*']\n"
          ]
        }
      ]
    },
    {
      "cell_type": "markdown",
      "source": [
        "**Workaround:** Pass default list as None and check if list is None"
      ],
      "metadata": {
        "id": "xWxUGMkTKEUg"
      }
    },
    {
      "cell_type": "code",
      "source": [
        "def fun(mylist = None):\n",
        "  if mylist is None:\n",
        "    mylist = []\n",
        "  mylist.append('*')\n",
        "  return mylist\n",
        "\n",
        "print(fun())\n",
        "print(fun())\n"
      ],
      "metadata": {
        "colab": {
          "base_uri": "https://localhost:8080/"
        },
        "id": "_JjKTN_QJMgc",
        "outputId": "370d2374-5e44-4b03-bd40-c57740850b86"
      },
      "execution_count": null,
      "outputs": [
        {
          "output_type": "stream",
          "name": "stdout",
          "text": [
            "['*']\n",
            "['*']\n"
          ]
        }
      ]
    },
    {
      "cell_type": "markdown",
      "source": [
        "Pass by value ❌\n",
        "\n",
        "Pass by reference ❌\n",
        "\n",
        "Pass by assignment ✔"
      ],
      "metadata": {
        "id": "ASTFKHP3SF73"
      }
    },
    {
      "cell_type": "code",
      "source": [
        "def fun(fx):\n",
        "  print(\"2:\",id(fx))\n",
        "  fx = 10\n",
        "  print(\"3:\",id(fx))\n",
        "\n",
        "x = 5\n",
        "\n",
        "print(\"1:\", id(x))\n",
        "fun(x)\n",
        "\n"
      ],
      "metadata": {
        "colab": {
          "base_uri": "https://localhost:8080/"
        },
        "id": "8dO4YczoL2HA",
        "outputId": "789bb128-f6d8-4cbd-9e7b-49b413543dab"
      },
      "execution_count": null,
      "outputs": [
        {
          "output_type": "stream",
          "name": "stdout",
          "text": [
            "1: 138184417935728\n",
            "2: 138184417935728\n",
            "3: 138184417935888\n"
          ]
        }
      ]
    },
    {
      "cell_type": "markdown",
      "source": [
        "# Variable length argument"
      ],
      "metadata": {
        "id": "zWLJFK6OZ68L"
      }
    },
    {
      "cell_type": "code",
      "source": [
        "def avg(a,b,c):\n",
        "  return (a+b+c)/3\n",
        "\n",
        "print(avg(3,5,7))"
      ],
      "metadata": {
        "colab": {
          "base_uri": "https://localhost:8080/"
        },
        "id": "qRaYXhUzZ9U0",
        "outputId": "65139187-17f2-4503-c3f4-e8b15903ace9"
      },
      "execution_count": null,
      "outputs": [
        {
          "output_type": "stream",
          "name": "stdout",
          "text": [
            "5.0\n"
          ]
        }
      ]
    },
    {
      "cell_type": "code",
      "source": [
        "#returning multiple elements\n",
        "def sum_diff(a,b):\n",
        "  return a+b,a-b\n",
        "\n",
        "add, diff = sum_diff(50,45)\n",
        "print(add, diff)"
      ],
      "metadata": {
        "colab": {
          "base_uri": "https://localhost:8080/"
        },
        "id": "BOHK3ESFaLPT",
        "outputId": "1a6777c1-2e68-48f2-b04e-5f5686b766e0"
      },
      "execution_count": null,
      "outputs": [
        {
          "output_type": "stream",
          "name": "stdout",
          "text": [
            "95 5\n"
          ]
        }
      ]
    },
    {
      "cell_type": "code",
      "source": [
        "# Argument tuple packing\n",
        "def avg(*nums):\n",
        "  return sum(nums)/len(nums)\n",
        "\n",
        "print(avg(112,32,45,76,78))"
      ],
      "metadata": {
        "colab": {
          "base_uri": "https://localhost:8080/"
        },
        "id": "tvgDFsNpbBrd",
        "outputId": "ba472f94-b246-4dfa-adca-766a9cfa7752"
      },
      "execution_count": null,
      "outputs": [
        {
          "output_type": "stream",
          "name": "stdout",
          "text": [
            "68.6\n"
          ]
        }
      ]
    },
    {
      "cell_type": "code",
      "source": [
        "# Argument tuple unpacking\n",
        "def fun(x,y,z):\n",
        "  print(f'{x}/{y}/{z}')\n",
        "\n",
        "num = (2,4,6)\n",
        "fun(*num)"
      ],
      "metadata": {
        "colab": {
          "base_uri": "https://localhost:8080/"
        },
        "id": "_LGr38qRcZfq",
        "outputId": "cc424bc1-b0d7-4b03-d0a3-26e7fe186ec5"
      },
      "execution_count": null,
      "outputs": [
        {
          "output_type": "stream",
          "name": "stdout",
          "text": [
            "2/4/6\n"
          ]
        }
      ]
    },
    {
      "cell_type": "code",
      "source": [
        "# dictionary packing\n",
        "def fun(**args):\n",
        "  for key,val in args.items():\n",
        "    print(key,\"->\",val)\n",
        "\n",
        "fun(foo=1, bar=2, baz=3)"
      ],
      "metadata": {
        "colab": {
          "base_uri": "https://localhost:8080/"
        },
        "id": "ZD_KCznWdA9P",
        "outputId": "0d0690e7-8996-4e11-b581-d7951514305c"
      },
      "execution_count": null,
      "outputs": [
        {
          "output_type": "stream",
          "name": "stdout",
          "text": [
            "foo -> 1\n",
            "bar -> 2\n",
            "baz -> 3\n"
          ]
        }
      ]
    },
    {
      "cell_type": "code",
      "source": [
        "# dictionary unpacking\n",
        "def fun(name,age,skill):\n",
        "  print(f'name={name}')\n",
        "  print(f'age={age}')\n",
        "  print(f'skill={skill}')\n",
        "\n",
        "d = {'name':'foo', 'age':'bar', 'skill':'baz'}\n",
        "fun(**d)"
      ],
      "metadata": {
        "colab": {
          "base_uri": "https://localhost:8080/"
        },
        "id": "5sPVOlCPensD",
        "outputId": "cf6e039f-a8cd-4aba-b7e2-bff7b1051e8f"
      },
      "execution_count": null,
      "outputs": [
        {
          "output_type": "stream",
          "name": "stdout",
          "text": [
            "name=foo\n",
            "age=bar\n",
            "skill=baz\n"
          ]
        }
      ]
    },
    {
      "cell_type": "markdown",
      "source": [
        "## Anonymous Functions (Lambda Functions)\n",
        "\n",
        "lambda arguments : expression\n"
      ],
      "metadata": {
        "id": "32cpcgsRlhXX"
      }
    },
    {
      "cell_type": "code",
      "source": [
        "# Add 10 to argument a, and return the result:\n",
        "x = lambda a : a + 10\n",
        "print(x(5))"
      ],
      "metadata": {
        "colab": {
          "base_uri": "https://localhost:8080/"
        },
        "id": "CwfHuUNamOwj",
        "outputId": "319ee50f-8f1b-48a5-8e5d-c96ad735fae1"
      },
      "execution_count": null,
      "outputs": [
        {
          "output_type": "stream",
          "name": "stdout",
          "text": [
            "15\n"
          ]
        }
      ]
    },
    {
      "cell_type": "code",
      "source": [
        "# Multiply argument a with argument b and return the result:\n",
        "x = lambda a,b : a * b\n",
        "print(x(4,5))"
      ],
      "metadata": {
        "colab": {
          "base_uri": "https://localhost:8080/"
        },
        "id": "ASBmQjmonEAY",
        "outputId": "98f6a6ce-fad9-44bb-8b19-8dba0b6e2ae4"
      },
      "execution_count": null,
      "outputs": [
        {
          "output_type": "stream",
          "name": "stdout",
          "text": [
            "20\n"
          ]
        }
      ]
    },
    {
      "cell_type": "markdown",
      "source": [
        "## Why Use Lambda Functions?\n",
        "The power of lambda is better shown when you use them as an anonymous function inside another function."
      ],
      "metadata": {
        "id": "1h7xgaOhqS6V"
      }
    },
    {
      "cell_type": "code",
      "source": [
        "def func(n):\n",
        "  return lambda a: a*n\n",
        "\n",
        "mydoubler = func(2)\n",
        "print(mydoubler(5))"
      ],
      "metadata": {
        "colab": {
          "base_uri": "https://localhost:8080/"
        },
        "id": "EUfPfiT9qRwq",
        "outputId": "a2f5392d-dd4d-451a-9e1e-f3bf9a63cc9d"
      },
      "execution_count": null,
      "outputs": [
        {
          "output_type": "stream",
          "name": "stdout",
          "text": [
            "10\n"
          ]
        }
      ]
    },
    {
      "cell_type": "markdown",
      "source": [
        "Above same function can be used to make a tripler function"
      ],
      "metadata": {
        "id": "fmhU6mZXsHop"
      }
    },
    {
      "cell_type": "code",
      "source": [
        "mytripler = func(3)\n",
        "print(mytripler(5))"
      ],
      "metadata": {
        "colab": {
          "base_uri": "https://localhost:8080/"
        },
        "id": "bq4kJ2JjsPC5",
        "outputId": "626168b8-141a-42e8-99d7-5df2329d0c82"
      },
      "execution_count": null,
      "outputs": [
        {
          "output_type": "stream",
          "name": "stdout",
          "text": [
            "15\n"
          ]
        }
      ]
    },
    {
      "cell_type": "markdown",
      "source": [
        "## Map, Filter and Reduce"
      ],
      "metadata": {
        "id": "v6hsXBrhtJvI"
      }
    },
    {
      "cell_type": "code",
      "source": [
        "# Convert all the strings in a list to uppercase\n",
        "\n",
        "myfruits = ['apple', 'grape', 'orange']\n",
        "\n",
        "bigfruits = []\n",
        "for i in myfruits:\n",
        "  bigfruits.append(i.upper())\n",
        "print(bigfruits)"
      ],
      "metadata": {
        "colab": {
          "base_uri": "https://localhost:8080/"
        },
        "id": "7iMkzbJDtdYe",
        "outputId": "f1acba23-b0cb-4e7c-f03a-7426f013295e"
      },
      "execution_count": null,
      "outputs": [
        {
          "output_type": "stream",
          "name": "stdout",
          "text": [
            "['APPLE', 'GRAPE', 'ORANGE']\n"
          ]
        }
      ]
    },
    {
      "cell_type": "code",
      "source": [
        "# The above task can also be done using map\n",
        "myfruits = ['apple', 'grape', 'orange']\n",
        "bigfruits = list(map(str.upper, myfruits))\n",
        "print(bigfruits)"
      ],
      "metadata": {
        "colab": {
          "base_uri": "https://localhost:8080/"
        },
        "id": "kUOmcpsZwc2E",
        "outputId": "7cc7b697-24a8-46f6-c03d-a8d9dc642ba4"
      },
      "execution_count": null,
      "outputs": [
        {
          "output_type": "stream",
          "name": "stdout",
          "text": [
            "['APPLE', 'GRAPE', 'ORANGE']\n"
          ]
        }
      ]
    },
    {
      "cell_type": "markdown",
      "source": [
        "# Object Oriented Programming"
      ],
      "metadata": {
        "id": "-k8UvGvVOES6"
      }
    },
    {
      "cell_type": "markdown",
      "source": [
        "## Classes and Objects"
      ],
      "metadata": {
        "id": "yK4TJdOION6x"
      }
    },
    {
      "cell_type": "code",
      "source": [
        "# creating a class in python\n",
        "\n",
        "class Car:\n",
        "  pass\n",
        "\n",
        "c1 = Car()\n",
        "print(type(c1))\n",
        "c2 = Car()\n",
        "\n",
        "print(c1==c2)"
      ],
      "metadata": {
        "colab": {
          "base_uri": "https://localhost:8080/"
        },
        "id": "poWDDB-JOIRe",
        "outputId": "a2ad4765-30ba-4501-f09b-69a31eabf86e"
      },
      "execution_count": null,
      "outputs": [
        {
          "output_type": "stream",
          "name": "stdout",
          "text": [
            "<class '__main__.Car'>\n",
            "False\n"
          ]
        }
      ]
    },
    {
      "cell_type": "code",
      "source": [
        "# declare and initialize instance attributes and class attributes\n",
        "\n",
        "class Dog:\n",
        "  species = 'German Shepherd' #class attribute\n",
        "  def __init__(self, name, age):\n",
        "    # instance attributes\n",
        "    self.name = name\n",
        "    self.age = age\n",
        "\n",
        "d1 = Dog('Jacob', 5)\n",
        "\n",
        "print(d1.name)\n",
        "print(d1.age)\n",
        "print(d1.species)\n",
        "\n",
        "d1.name = 'sheru'\n",
        "d1.age = 4\n",
        "d1.species = 'desi kutta'\n",
        "\n",
        "print(d1.name)\n",
        "print(d1.age)\n",
        "print(d1.species)\n",
        "\n"
      ],
      "metadata": {
        "colab": {
          "base_uri": "https://localhost:8080/"
        },
        "id": "oGK6ATI-Oas5",
        "outputId": "8b792e13-599c-40e5-fc0e-e2a9bf1d1424"
      },
      "execution_count": null,
      "outputs": [
        {
          "output_type": "stream",
          "name": "stdout",
          "text": [
            "Jacob\n",
            "5\n",
            "German Shepherd\n",
            "sheru\n",
            "4\n",
            "desi kutta\n"
          ]
        }
      ]
    },
    {
      "cell_type": "markdown",
      "source": [
        "## Instance methods"
      ],
      "metadata": {
        "id": "QWKOtFZvS9g_"
      }
    },
    {
      "cell_type": "code",
      "source": [
        "class Dog:\n",
        "  species = 'German Shepherd' #class attribute\n",
        "  def __init__(self, name, age):\n",
        "    # instance attributes\n",
        "    self.name = name\n",
        "    self.age = age\n",
        "\n",
        "  def description(self):\n",
        "    print(f'{self.name} is {self.age} years old.')\n",
        "\n",
        "  def speak(self, sound):\n",
        "    print(f'{self.name} says {sound}')\n",
        "\n",
        "mydog = Dog('tommy', 2)\n",
        "mydog.description()\n",
        "mydog.speak('Bhow Bhow')"
      ],
      "metadata": {
        "colab": {
          "base_uri": "https://localhost:8080/"
        },
        "id": "-Bvd8Q8GRWZl",
        "outputId": "f0ddb22f-2789-4520-e9d2-2acda3256d22"
      },
      "execution_count": null,
      "outputs": [
        {
          "output_type": "stream",
          "name": "stdout",
          "text": [
            "tommy is 2 years old.\n",
            "tommy says Bhow Bhow\n"
          ]
        }
      ]
    },
    {
      "cell_type": "markdown",
      "source": [
        "## Directly printing and instance"
      ],
      "metadata": {
        "id": "dTMIKkUpT7w1"
      }
    },
    {
      "cell_type": "code",
      "source": [
        "class Dog:\n",
        "  species = 'German Shepherd' #class attribute\n",
        "  def __init__(self, name, age):\n",
        "    # instance attributes\n",
        "    self.name = name\n",
        "    self.age = age\n",
        "\n",
        "  def __str__(self):\n",
        "    return f'[name->{self.name}; age->{self.age}]'\n",
        "\n",
        "  def description(self):\n",
        "    print(f'{self.name} is {self.age} years old.')\n",
        "\n",
        "  def speak(self, sound):\n",
        "    print(f'{self.name} says {sound}')\n",
        "\n",
        "\n",
        "d1 = Dog('hitler',8)\n",
        "print(d1)"
      ],
      "metadata": {
        "colab": {
          "base_uri": "https://localhost:8080/"
        },
        "id": "bOTDZeXqTyiX",
        "outputId": "295b1f43-aec2-46b6-c157-24b99281c91e"
      },
      "execution_count": null,
      "outputs": [
        {
          "output_type": "stream",
          "name": "stdout",
          "text": [
            "[name->hitler; age->8]\n"
          ]
        }
      ]
    },
    {
      "cell_type": "code",
      "source": [],
      "metadata": {
        "id": "UkEH5j5_UnNB"
      },
      "execution_count": null,
      "outputs": []
    }
  ]
}